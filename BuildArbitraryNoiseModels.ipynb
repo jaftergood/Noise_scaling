{
 "cells": [
  {
   "cell_type": "markdown",
   "metadata": {},
   "source": [
    "# GST on Rigetti Backends with PyGSTi\n",
    "The purpose of this notebook is to use the data collected from a GST experiment that has been read into the `rigetti_first_run` directory and perform GST on it. \n",
    "\n",
    "This code was mostly taken from the tutorial notebook [UnitaryFundDemoNotebook1.ipynb\n",
    "](https://zenodo.org/record/5715199#.Yr_TOUjMLJF). "
   ]
  },
  {
   "cell_type": "code",
   "execution_count": 602,
   "metadata": {},
   "outputs": [],
   "source": [
    "#PyGSTi tools\n",
    "import pygsti\n",
    "from pygsti.modelpacks import smq1Q_XZ\n",
    "\n",
    "#Mitiq tools\n",
    "from mitiq.pec import NoisyOperation, NoisyBasis, execute_with_pec\n",
    "from mitiq.pec.representations.optimal import find_optimal_representation, find_optimal_representation_super\n",
    "\n",
    "from mitiq import QPROGRAM\n",
    "from mitiq.interface import convert_to_mitiq\n",
    "from mitiq.pec.types import NoisyBasis, OperationRepresentation\n",
    "from mitiq.pec.channels import matrix_to_vector, kraus_to_super\n",
    "from mitiq.pec.channels import choi_to_super, _circuit_to_choi\n",
    "\n",
    "#Helper libraries\n",
    "from typing import cast, List, Optional\n",
    "import numpy as np\n",
    "import numpy.typing as npt\n",
    "from scipy.optimize import minimize, LinearConstraint\n",
    "\n",
    "#make numpy matrices easier to read\n",
    "np.set_printoptions(precision=3, suppress=True)\n",
    "\n",
    "# Qiskit\n",
    "import qiskit\n",
    "from qiskit.quantum_info import PTM, SuperOp, Kraus, Pauli, Operator\n",
    "from qiskit import QuantumCircuit, QuantumRegister\n",
    "from qiskit.test.mock import *\n",
    "from qiskit.providers.fake_provider import *\n",
    "from qiskit.providers.aer import AerSimulator, QasmSimulator, Aer\n",
    "from qiskit.providers.aer.noise import phase_amplitude_damping_error\n",
    "from qiskit.providers.aer.noise.noise_model import NoiseModel\n",
    "from qiskit.quantum_info.operators.channel.transformations import *\n",
    "from qiskit.quantum_info.operators.channel.quantum_channel import QuantumChannel\n",
    "from qiskit.quantum_info.operators.channel.transformations import _choi_to_kraus, _kraus_to_superop\n",
    "from qiskit.quantum_info.operators.channel.transformations import _kraus_to_choi, _choi_to_superop\n",
    "\n",
    "# Cirq library used as a frontend for interfacing Mitiq\n",
    "import cirq\n",
    "from cirq import kraus\n",
    "\n",
    "from qutip import *\n",
    "from qutip.qip.operations import expand_operator\n",
    "from qutip.steadystate import steadystate"
   ]
  },
  {
   "cell_type": "code",
   "execution_count": 614,
   "metadata": {},
   "outputs": [],
   "source": [
    "z2 = expand_operator(sigmaz(), 3, 0) * expand_operator(sigmaz(), 3, 1) * expand_operator(sigmaz(), 3, 2)\n",
    "x1 = expand_operator(sigmax(), 3, 0)\n",
    "x2 = expand_operator(sigmax(), 3, 1)\n",
    "x3 = expand_operator(sigmax(), 3, 2)"
   ]
  },
  {
   "cell_type": "code",
   "execution_count": 142,
   "metadata": {},
   "outputs": [],
   "source": [
    "error = phase_amplitude_damping_error(0.001,0.001)\n",
    "noise_model = NoiseModel()\n",
    "noise_model.add_all_qubit_quantum_error(error, ['id'])"
   ]
  },
  {
   "cell_type": "code",
   "execution_count": 159,
   "metadata": {
    "collapsed": true
   },
   "outputs": [
    {
     "name": "stdout",
     "output_type": "stream",
     "text": [
      "0 0 (0.9999999999999997+0j)\n",
      "0 5 (0.0004999999999999999+0j)\n",
      "0 10 (0.0004999999999999999+0j)\n",
      "1 1 (0.9994997497496867+0j)\n",
      "1 11 (0.0004999999999999999+0j)\n",
      "2 2 (0.9994997497496867+0j)\n",
      "2 7 (0.0004999999999999999+0j)\n",
      "3 3 (0.9989994994993737+0j)\n",
      "4 4 (0.9994997497496867+0j)\n",
      "4 14 (0.0004999999999999999+0j)\n",
      "5 5 (0.9994999999999997+0j)\n",
      "5 15 (0.0004999999999999999+0j)\n",
      "6 6 (0.9989994994993737+0j)\n",
      "7 7 (0.9989997497496867+0j)\n",
      "8 8 (0.9994997497496867+0j)\n",
      "8 13 (0.0004999999999999999+0j)\n",
      "9 9 (0.9989994994993737+0j)\n",
      "10 10 (0.9994999999999997+0j)\n",
      "10 15 (0.0004999999999999999+0j)\n",
      "11 11 (0.9989997497496867+0j)\n",
      "12 12 (0.9989994994993737+0j)\n",
      "13 13 (0.9989997497496867+0j)\n",
      "14 14 (0.9989997497496867+0j)\n",
      "15 15 (0.9989999999999998+0j)\n"
     ]
    }
   ],
   "source": [
    "for i, j in enumerate(Qobj((SuperOp(error).tensor(SuperOp(np.identity(4))).data + SuperOp(np.identity(4)).tensor(SuperOp(error)).data)/2).full()):\n",
    "    for k, l in enumerate(j):\n",
    "        if l > 0:\n",
    "            print(i, k, l)"
   ]
  },
  {
   "cell_type": "code",
   "execution_count": 156,
   "metadata": {
    "collapsed": true
   },
   "outputs": [
    {
     "data": {
      "text/latex": [
       "Quantum object: dims = [[16], [16]], shape = (16, 16), type = oper, isherm = False\\begin{equation*}\\left(\\begin{array}{*{11}c}1.000 & 0.0 & 0.0 & 0.0 & 0.0 & \\cdots & 0.0 & 0.0 & 0.0 & 0.0 & 0.0\\\\0.0 & 1.000 & 0.0 & 0.0 & 0.0 & \\cdots & 1.000\\times10^{-03} & 0.0 & 0.0 & 0.0 & 0.0\\\\0.0 & 0.0 & 0.999 & 0.0 & 0.0 & \\cdots & 0.0 & 0.0 & 0.0 & 0.0 & 0.0\\\\0.0 & 0.0 & 0.0 & 0.999 & 0.0 & \\cdots & 0.0 & 0.0 & 0.0 & 0.0 & 0.0\\\\0.0 & 0.0 & 0.0 & 0.0 & 1.000 & \\cdots & 0.0 & 0.0 & 0.0 & 1.000\\times10^{-03} & 0.0\\\\\\vdots & \\vdots & \\vdots & \\vdots & \\vdots & \\ddots & \\vdots & \\vdots & \\vdots & \\vdots & \\vdots\\\\0.0 & 0.0 & 0.0 & 0.0 & 0.0 & \\cdots & 0.999 & 0.0 & 0.0 & 0.0 & 0.0\\\\0.0 & 0.0 & 0.0 & 0.0 & 0.0 & \\cdots & 0.0 & 0.999 & 0.0 & 0.0 & 0.0\\\\0.0 & 0.0 & 0.0 & 0.0 & 0.0 & \\cdots & 0.0 & 0.0 & 0.999 & 0.0 & 0.0\\\\0.0 & 0.0 & 0.0 & 0.0 & 0.0 & \\cdots & 0.0 & 0.0 & 0.0 & 0.999 & 0.0\\\\0.0 & 0.0 & 0.0 & 0.0 & 0.0 & \\cdots & 0.0 & 0.0 & 0.0 & 0.0 & 0.999\\\\\\end{array}\\right)\\end{equation*}"
      ],
      "text/plain": [
       "Quantum object: dims = [[16], [16]], shape = (16, 16), type = oper, isherm = False\n",
       "Qobj data =\n",
       "[[1.    0.    0.    0.    0.    0.    0.    0.    0.    0.    0.001 0.\n",
       "  0.    0.    0.    0.   ]\n",
       " [0.    1.    0.    0.    0.    0.    0.    0.    0.    0.    0.    0.001\n",
       "  0.    0.    0.    0.   ]\n",
       " [0.    0.    0.999 0.    0.    0.    0.    0.    0.    0.    0.    0.\n",
       "  0.    0.    0.    0.   ]\n",
       " [0.    0.    0.    0.999 0.    0.    0.    0.    0.    0.    0.    0.\n",
       "  0.    0.    0.    0.   ]\n",
       " [0.    0.    0.    0.    1.    0.    0.    0.    0.    0.    0.    0.\n",
       "  0.    0.    0.001 0.   ]\n",
       " [0.    0.    0.    0.    0.    1.    0.    0.    0.    0.    0.    0.\n",
       "  0.    0.    0.    0.001]\n",
       " [0.    0.    0.    0.    0.    0.    0.999 0.    0.    0.    0.    0.\n",
       "  0.    0.    0.    0.   ]\n",
       " [0.    0.    0.    0.    0.    0.    0.    0.999 0.    0.    0.    0.\n",
       "  0.    0.    0.    0.   ]\n",
       " [0.    0.    0.    0.    0.    0.    0.    0.    0.999 0.    0.    0.\n",
       "  0.    0.    0.    0.   ]\n",
       " [0.    0.    0.    0.    0.    0.    0.    0.    0.    0.999 0.    0.\n",
       "  0.    0.    0.    0.   ]\n",
       " [0.    0.    0.    0.    0.    0.    0.    0.    0.    0.    0.999 0.\n",
       "  0.    0.    0.    0.   ]\n",
       " [0.    0.    0.    0.    0.    0.    0.    0.    0.    0.    0.    0.999\n",
       "  0.    0.    0.    0.   ]\n",
       " [0.    0.    0.    0.    0.    0.    0.    0.    0.    0.    0.    0.\n",
       "  0.999 0.    0.    0.   ]\n",
       " [0.    0.    0.    0.    0.    0.    0.    0.    0.    0.    0.    0.\n",
       "  0.    0.999 0.    0.   ]\n",
       " [0.    0.    0.    0.    0.    0.    0.    0.    0.    0.    0.    0.\n",
       "  0.    0.    0.999 0.   ]\n",
       " [0.    0.    0.    0.    0.    0.    0.    0.    0.    0.    0.    0.\n",
       "  0.    0.    0.    0.999]]"
      ]
     },
     "execution_count": 156,
     "metadata": {},
     "output_type": "execute_result"
    }
   ],
   "source": [
    "Qobj(SuperOp(error).tensor(SuperOp(np.identity(4))).data)"
   ]
  },
  {
   "cell_type": "code",
   "execution_count": 162,
   "metadata": {},
   "outputs": [
    {
     "name": "stdout",
     "output_type": "stream",
     "text": [
      "0 0 (0.9999999999999997+0j)\n",
      "0 10 (0.0009999999999999998+0j)\n",
      "1 1 (0.9999999999999997+0j)\n",
      "1 11 (0.0009999999999999998+0j)\n",
      "2 2 (0.9989994994993737+0j)\n",
      "3 3 (0.9989994994993737+0j)\n",
      "4 4 (0.9999999999999997+0j)\n",
      "4 14 (0.0009999999999999998+0j)\n",
      "5 5 (0.9999999999999997+0j)\n",
      "5 15 (0.0009999999999999998+0j)\n",
      "6 6 (0.9989994994993737+0j)\n",
      "7 7 (0.9989994994993737+0j)\n",
      "8 8 (0.9989994994993737+0j)\n",
      "9 9 (0.9989994994993737+0j)\n",
      "10 10 (0.9989999999999998+0j)\n",
      "11 11 (0.9989999999999998+0j)\n",
      "12 12 (0.9989994994993737+0j)\n",
      "13 13 (0.9989994994993737+0j)\n",
      "14 14 (0.9989999999999998+0j)\n",
      "15 15 (0.9989999999999998+0j)\n"
     ]
    }
   ],
   "source": [
    "for i, j in enumerate(Qobj(SuperOp(error).tensor(SuperOp(np.identity(4))).data).full()):\n",
    "    for k, l in enumerate(j):\n",
    "        if l > 0:\n",
    "            print(i, k, l)"
   ]
  },
  {
   "cell_type": "markdown",
   "metadata": {},
   "source": [
    "## Read data from experiment\n",
    "This data was written by the `get_gst_data.ipynb` file."
   ]
  },
  {
   "cell_type": "code",
   "execution_count": 2,
   "metadata": {},
   "outputs": [],
   "source": [
    "# Usa data from first run\n",
    "data = pygsti.io.read_data_from_dir('experiment_data/rigetti_first_run')\n",
    "\n",
    "# Use data from second run\n",
    "# data = pygsti.io.read_data_from_dir('experiment_data_all/second_experiment_run_data/experiment_data/rigetti_first_run')\n"
   ]
  },
  {
   "cell_type": "markdown",
   "metadata": {},
   "source": [
    "## Run GST on the data"
   ]
  },
  {
   "cell_type": "markdown",
   "metadata": {},
   "source": [
    "In this subsection we impose that RZ  must be equal to the ideal operation.\n",
    "\n",
    "This is procedure is adapted from page 3 of https://arxiv.org/abs/2002.12476.\n"
   ]
  },
  {
   "cell_type": "code",
   "execution_count": 3,
   "metadata": {
    "scrolled": true
   },
   "outputs": [
    {
     "name": "stdout",
     "output_type": "stream",
     "text": [
      "--- Iterative GST: Iter 1 of 6  52 circuits ---: \n",
      "  MatrixLayout: 1 processors divided into 1 x 1 (= 1) grid along circuit and parameter directions.\n",
      "     1 atoms, parameter block size limits (None,)\n",
      "  *** Distributing 1 atoms to 1 atom-processing groups (1 cores) ***\n",
      "      More atom-processors than hosts: each host gets ~1 atom-processors\n",
      "      Atom-processors already occupy a single node, dividing atom-processor into 1 param-processors.\n",
      "  *** Divided 1-host atom-processor (~1 procs) into 1 param-processing groups ***\n",
      "  --- chi2 GST ---\n",
      "  Sum of Chi^2 = 93.5413 (52 data params - 28 (approx) model params = expected mean of 24; p-value = 3.70919e-10)\n",
      "  Completed in 0.2s\n",
      "  Iteration 1 took 0.3s\n",
      "  \n",
      "--- Iterative GST: Iter 2 of 6  96 circuits ---: \n",
      "  MatrixLayout: 1 processors divided into 1 x 1 (= 1) grid along circuit and parameter directions.\n",
      "     1 atoms, parameter block size limits (None,)\n",
      "  *** Distributing 1 atoms to 1 atom-processing groups (1 cores) ***\n",
      "      More atom-processors than hosts: each host gets ~1 atom-processors\n",
      "      Atom-processors already occupy a single node, dividing atom-processor into 1 param-processors.\n",
      "  *** Divided 1-host atom-processor (~1 procs) into 1 param-processing groups ***\n",
      "  --- chi2 GST ---\n",
      "  Sum of Chi^2 = 241.208 (96 data params - 28 (approx) model params = expected mean of 68; p-value = 0)\n",
      "  Completed in 0.1s\n",
      "  Iteration 2 took 0.1s\n",
      "  \n",
      "--- Iterative GST: Iter 3 of 6  177 circuits ---: \n",
      "  MatrixLayout: 1 processors divided into 1 x 1 (= 1) grid along circuit and parameter directions.\n",
      "     1 atoms, parameter block size limits (None,)\n",
      "  *** Distributing 1 atoms to 1 atom-processing groups (1 cores) ***\n",
      "      More atom-processors than hosts: each host gets ~1 atom-processors\n",
      "      Atom-processors already occupy a single node, dividing atom-processor into 1 param-processors.\n",
      "  *** Divided 1-host atom-processor (~1 procs) into 1 param-processing groups ***\n",
      "  --- chi2 GST ---\n",
      "  Sum of Chi^2 = 522.086 (177 data params - 28 (approx) model params = expected mean of 149; p-value = 0)\n",
      "  Completed in 0.1s\n",
      "  Iteration 3 took 0.2s\n",
      "  \n",
      "--- Iterative GST: Iter 4 of 6  292 circuits ---: \n",
      "  MatrixLayout: 1 processors divided into 1 x 1 (= 1) grid along circuit and parameter directions.\n",
      "     1 atoms, parameter block size limits (None,)\n",
      "  *** Distributing 1 atoms to 1 atom-processing groups (1 cores) ***\n",
      "      More atom-processors than hosts: each host gets ~1 atom-processors\n",
      "      Atom-processors already occupy a single node, dividing atom-processor into 1 param-processors.\n",
      "  *** Divided 1-host atom-processor (~1 procs) into 1 param-processing groups ***\n",
      "  --- chi2 GST ---\n",
      "  Sum of Chi^2 = 1311.31 (292 data params - 28 (approx) model params = expected mean of 264; p-value = 0)\n",
      "  Completed in 0.2s\n",
      "  Iteration 4 took 0.3s\n",
      "  \n",
      "--- Iterative GST: Iter 5 of 6  421 circuits ---: \n",
      "  MatrixLayout: 1 processors divided into 1 x 1 (= 1) grid along circuit and parameter directions.\n",
      "     1 atoms, parameter block size limits (None,)\n",
      "  *** Distributing 1 atoms to 1 atom-processing groups (1 cores) ***\n",
      "      More atom-processors than hosts: each host gets ~1 atom-processors\n",
      "      Atom-processors already occupy a single node, dividing atom-processor into 1 param-processors.\n",
      "  *** Divided 1-host atom-processor (~1 procs) into 1 param-processing groups ***\n",
      "  --- chi2 GST ---\n",
      "  Sum of Chi^2 = 2776.21 (421 data params - 28 (approx) model params = expected mean of 393; p-value = 0)\n",
      "  Completed in 0.3s\n",
      "  Iteration 5 took 0.4s\n",
      "  \n",
      "--- Iterative GST: Iter 6 of 6  550 circuits ---: \n",
      "  MatrixLayout: 1 processors divided into 1 x 1 (= 1) grid along circuit and parameter directions.\n",
      "     1 atoms, parameter block size limits (None,)\n",
      "  *** Distributing 1 atoms to 1 atom-processing groups (1 cores) ***\n",
      "      More atom-processors than hosts: each host gets ~1 atom-processors\n",
      "      Atom-processors already occupy a single node, dividing atom-processor into 1 param-processors.\n",
      "  *** Divided 1-host atom-processor (~1 procs) into 1 param-processing groups ***\n",
      "  --- chi2 GST ---\n",
      "  Sum of Chi^2 = 4067.66 (550 data params - 28 (approx) model params = expected mean of 522; p-value = 0)\n",
      "  Completed in 0.3s\n",
      "  Iteration 6 took 0.5s\n",
      "  \n",
      "  Last iteration:\n",
      "  --- dlogl GST ---\n",
      "  2*Delta(log(L)) = 4037.28 (550 data params - 28 (approx) model params = expected mean of 522; p-value = 0)\n",
      "  Completed in 0.3s\n",
      "  Final optimization took 0.3s\n",
      "  \n",
      "Iterative GST Total Time: 2.0s\n"
     ]
    }
   ],
   "source": [
    "# Run GST assuming a perfect rz gate.\n",
    "target_mdl = smq1Q_XZ.target_model()\n",
    "rz_matrix = target_mdl[('Gzpi2',0)].to_dense()\n",
    "dense_rz = pygsti.modelmembers.operations.DenseOperator(rz_matrix, evotype=\"default\")\n",
    "target_mdl[('Gzpi2',0)] = dense_rz.copy()\n",
    "\n",
    "results = pygsti.protocols.GST(target_mdl, gaugeopt_suite=None).run(data)"
   ]
  },
  {
   "cell_type": "code",
   "execution_count": 4,
   "metadata": {
    "scrolled": true
   },
   "outputs": [
    {
     "name": "stdout",
     "output_type": "stream",
     "text": [
      "Rx Pauli transfer matrix:\n",
      " [[ 0.999  0.002 -0.011  0.007]\n",
      " [ 0.01   0.989  0.062 -0.064]\n",
      " [ 0.062 -0.057  0.012 -0.974]\n",
      " [ 0.06  -0.059  0.976  0.016]]\n",
      "Rz Pauli transfer matrix:\n",
      " [[ 1.  0.  0.  0.]\n",
      " [ 0.  0. -1.  0.]\n",
      " [ 0.  1.  0.  0.]\n",
      " [ 0.  0.  0.  1.]]\n"
     ]
    }
   ],
   "source": [
    "model = results.estimates['GateSetTomography'].models['final iteration estimate']\n",
    "print(\"Rx Pauli transfer matrix:\\n\", model.operations[('Gxpi2', 0)].to_dense())\n",
    "print(\"Rz Pauli transfer matrix:\\n\", model.operations[('Gzpi2', 0)].to_dense())"
   ]
  },
  {
   "cell_type": "markdown",
   "metadata": {},
   "source": [
    "## Get noisy superoperators"
   ]
  },
  {
   "cell_type": "code",
   "execution_count": 2,
   "metadata": {},
   "outputs": [
    {
     "ename": "NameError",
     "evalue": "name 'model' is not defined",
     "output_type": "error",
     "traceback": [
      "\u001b[0;31m---------------------------------------------------------------------------\u001b[0m",
      "\u001b[0;31mNameError\u001b[0m                                 Traceback (most recent call last)",
      "Cell \u001b[0;32mIn [2], line 2\u001b[0m\n\u001b[1;32m      1\u001b[0m \u001b[38;5;66;03m# Convert Pauli transfer matrix to superoperator\u001b[39;00m\n\u001b[0;32m----> 2\u001b[0m superop_rx \u001b[38;5;241m=\u001b[39m SuperOp(PTM(\u001b[43mmodel\u001b[49m\u001b[38;5;241m.\u001b[39moperations[(\u001b[38;5;124m'\u001b[39m\u001b[38;5;124mGxpi2\u001b[39m\u001b[38;5;124m'\u001b[39m, \u001b[38;5;241m0\u001b[39m)]\u001b[38;5;241m.\u001b[39mto_dense()))\u001b[38;5;241m.\u001b[39mdata\u001b[38;5;241m.\u001b[39mconj()  \u001b[38;5;66;03m# conj depends on convention\u001b[39;00m\n\u001b[1;32m      3\u001b[0m superop_rz \u001b[38;5;241m=\u001b[39m SuperOp(PTM(model\u001b[38;5;241m.\u001b[39moperations[(\u001b[38;5;124m'\u001b[39m\u001b[38;5;124mGzpi2\u001b[39m\u001b[38;5;124m'\u001b[39m, \u001b[38;5;241m0\u001b[39m)]\u001b[38;5;241m.\u001b[39mto_dense()))\u001b[38;5;241m.\u001b[39mdata\u001b[38;5;241m.\u001b[39mconj()  \u001b[38;5;66;03m# conj depends on convention\u001b[39;00m\n\u001b[1;32m      7\u001b[0m \u001b[38;5;28mprint\u001b[39m(\u001b[38;5;124m\"\u001b[39m\u001b[38;5;124mRx superoperator matrix:\u001b[39m\u001b[38;5;130;01m\\n\u001b[39;00m\u001b[38;5;124m\"\u001b[39m, superop_rx)\n",
      "\u001b[0;31mNameError\u001b[0m: name 'model' is not defined"
     ]
    }
   ],
   "source": [
    "# Convert Pauli transfer matrix to superoperator\n",
    "superop_rx = SuperOp(PTM(model.operations[('Gxpi2', 0)].to_dense())).data.conj()  # conj depends on convention\n",
    "superop_rz = SuperOp(PTM(model.operations[('Gzpi2', 0)].to_dense())).data.conj()  # conj depends on convention\n",
    "\n",
    "\n",
    "\n",
    "print(\"Rx superoperator matrix:\\n\", superop_rx)\n",
    "print(\"Rz superoperator matrix:\\n\", superop_rz)\n"
   ]
  },
  {
   "cell_type": "markdown",
   "metadata": {},
   "source": [
    "## Get ideal superoperators. Method 1."
   ]
  },
  {
   "cell_type": "code",
   "execution_count": 2,
   "metadata": {},
   "outputs": [],
   "source": [
    "qb = [cirq.LineQubit(x) for x in range(0, 2)]"
   ]
  },
  {
   "cell_type": "code",
   "execution_count": 3,
   "metadata": {},
   "outputs": [
    {
     "data": {
      "text/plain": [
       "cirq.LineQubit(1)"
      ]
     },
     "execution_count": 3,
     "metadata": {},
     "output_type": "execute_result"
    }
   ],
   "source": [
    "qb[1]"
   ]
  },
  {
   "cell_type": "code",
   "execution_count": 4,
   "metadata": {},
   "outputs": [],
   "source": [
    "def Rzz(q0, q1, theta):\n",
    "    yield cirq.CNOT(q0, q1)\n",
    "    yield cirq.rz(theta).on(q1)\n",
    "    yield cirq.CNOT(q0, q1)\n",
    "    \n",
    "def Ryy(q0, q1, theta):\n",
    "    yield [cirq.ZPowGate(exponent=0.5).on(q0),cirq.ZPowGate(exponent=0.5).on(q1)]\n",
    "    yield [cirq.H(q0), cirq.H(q1)]\n",
    "    yield cirq.CNOT(q0, q1)\n",
    "    yield cirq.rz(theta).on(q1)\n",
    "    yield cirq.CNOT(q0, q1)\n",
    "    yield [cirq.HPowGate(exponent=-1).on(q0), cirq.HPowGate(exponent=-1).on(q1)]\n",
    "    yield [cirq.ZPowGate(exponent=-0.5).on(q0),cirq.ZPowGate(exponent=-0.5).on(q1)]\n",
    "    \n",
    "def Rxx(q0, q1, theta):\n",
    "    yield [cirq.H(q0), cirq.H(q1)]\n",
    "    yield cirq.CNOT(q0, q1)\n",
    "    yield cirq.rz(theta).on(q1)\n",
    "    yield cirq.CNOT(q0, q1)\n",
    "    yield [cirq.HPowGate(exponent=-1).on(q0), cirq.HPowGate(exponent=-1).on(q1)]"
   ]
  },
  {
   "cell_type": "code",
   "execution_count": 575,
   "metadata": {},
   "outputs": [],
   "source": [
    "dt = 0.005*np.pi/2\n",
    "thet = -1 * dt\n",
    "\n",
    "# For 1 qubit\n",
    "circuitZ = cirq.Circuit()\n",
    "circuitZ.append(cirq.rz(thet).on(qb[0]))\n",
    "\n",
    "circuitX = cirq.Circuit()\n",
    "circuitX.append(cirq.rx(thet).on(qb[0]))\n",
    "\n",
    "# Create ideal operations as Cirq circuits\n",
    "circuitrXI = cirq.Circuit()\n",
    "circuitrXI.append(cirq.rx(thet).on(qb[0]))\n",
    "circuitrXI.append(cirq.I(qb[1]))\n",
    "circuitIrX = cirq.Circuit()\n",
    "circuitIrX.append(cirq.rx(thet).on(qb[1]))\n",
    "circuitIrX.append(cirq.I(qb[0]))\n",
    "circuitrZI = cirq.Circuit()\n",
    "circuitrZI.append(cirq.rz(thet).on(qb[0]))\n",
    "circuitrZI.append(cirq.I(qb[1]))\n",
    "circuitIrZ = cirq.Circuit()\n",
    "circuitIrZ.append(cirq.rz(thet).on(qb[1]))\n",
    "circuitIrZ.append(cirq.I(qb[0]))\n",
    "\n",
    "circuitXI = cirq.Circuit()\n",
    "circuitXI.append(cirq.X(qb[0]))\n",
    "circuitXI.append(cirq.I(qb[1]))\n",
    "circuitIX = cirq.Circuit()\n",
    "circuitIX.append(cirq.X(qb[1]))\n",
    "circuitIX.append(cirq.I(qb[0]))\n",
    "\n",
    "circuitsXI = cirq.Circuit()\n",
    "circuitsXI.append(cirq.XPowGate(exponent=0.5).on(qb[0]))\n",
    "circuitsXI.append(cirq.I(qb[1]))\n",
    "circuitIsX = cirq.Circuit()\n",
    "circuitIsX.append(cirq.XPowGate(exponent=0.5).on(qb[1]))\n",
    "circuitIsX.append(cirq.I(qb[0]))\n",
    "\n",
    "circuitZZ = cirq.Circuit()\n",
    "cirq_rzz = circuitZZ.append(Rzz(qb[0], qb[1], thet))\n",
    "# cirq_rzz = cirq.Circuit(cirq.rzz(np.pi / 2).on(cirq.LineQubit(0)))\n",
    "circuitXX = cirq.Circuit()\n",
    "cirq_rxx = circuitXX.append(Rxx(qb[0], qb[1], thet))\n",
    "# cirq_rxx = cirq.Circuit(cirq.rx(np.pi / 2).on(cirq.LineQubit(0)))\n",
    "circuitYY = cirq.Circuit()\n",
    "cirq_ryy = circuitYY.append(Ryy(qb[0], qb[1], thet))"
   ]
  },
  {
   "cell_type": "code",
   "execution_count": 576,
   "metadata": {},
   "outputs": [
    {
     "data": {
      "text/html": [
       "<pre style=\"overflow: auto; white-space: pre;\">0: ───@─────────────────@───\n",
       "      │                 │\n",
       "1: ───X───Rz(-0.002π)───X───</pre>"
      ],
      "text/plain": [
       "0: ───@─────────────────@───\n",
       "      │                 │\n",
       "1: ───X───Rz(-0.002π)───X───"
      ]
     },
     "execution_count": 576,
     "metadata": {},
     "output_type": "execute_result"
    }
   ],
   "source": [
    "circuitZZ"
   ]
  },
  {
   "cell_type": "code",
   "execution_count": 552,
   "metadata": {
    "scrolled": true
   },
   "outputs": [],
   "source": [
    "from mitiq.pec.channels import choi_to_super, _circuit_to_choi\n",
    "\n",
    "test_ZZ = choi_to_super(_circuit_to_choi(circuitZZ))"
   ]
  },
  {
   "cell_type": "code",
   "execution_count": 553,
   "metadata": {},
   "outputs": [
    {
     "data": {
      "text/plain": [
       "array([[1.+0.j   , 0.+0.j   , 0.+0.j   , 0.-0.008j, 0.+0.j   , 0.+0.j   ,\n",
       "        0.+0.j   , 0.+0.j   , 0.+0.j   , 0.+0.j   , 0.+0.j   , 0.+0.j   ,\n",
       "        0.+0.008j, 0.+0.j   , 0.+0.j   , 0.+0.j   ],\n",
       "       [0.+0.j   , 1.+0.j   , 0.-0.008j, 0.+0.j   , 0.+0.j   , 0.+0.j   ,\n",
       "        0.+0.j   , 0.+0.j   , 0.+0.j   , 0.+0.j   , 0.+0.j   , 0.+0.j   ,\n",
       "        0.+0.j   , 0.+0.008j, 0.+0.j   , 0.+0.j   ],\n",
       "       [0.+0.j   , 0.-0.008j, 1.+0.j   , 0.+0.j   , 0.+0.j   , 0.+0.j   ,\n",
       "        0.+0.j   , 0.+0.j   , 0.+0.j   , 0.+0.j   , 0.+0.j   , 0.+0.j   ,\n",
       "        0.+0.j   , 0.+0.j   , 0.+0.008j, 0.+0.j   ],\n",
       "       [0.-0.008j, 0.+0.j   , 0.+0.j   , 1.+0.j   , 0.+0.j   , 0.+0.j   ,\n",
       "        0.+0.j   , 0.+0.j   , 0.+0.j   , 0.+0.j   , 0.+0.j   , 0.+0.j   ,\n",
       "        0.+0.j   , 0.+0.j   , 0.+0.j   , 0.+0.008j],\n",
       "       [0.+0.j   , 0.+0.j   , 0.+0.j   , 0.+0.j   , 1.+0.j   , 0.+0.j   ,\n",
       "        0.+0.j   , 0.-0.008j, 0.+0.008j, 0.+0.j   , 0.+0.j   , 0.+0.j   ,\n",
       "        0.+0.j   , 0.+0.j   , 0.+0.j   , 0.+0.j   ],\n",
       "       [0.+0.j   , 0.+0.j   , 0.+0.j   , 0.+0.j   , 0.+0.j   , 1.+0.j   ,\n",
       "        0.-0.008j, 0.+0.j   , 0.+0.j   , 0.+0.008j, 0.+0.j   , 0.+0.j   ,\n",
       "        0.+0.j   , 0.+0.j   , 0.+0.j   , 0.+0.j   ],\n",
       "       [0.+0.j   , 0.+0.j   , 0.+0.j   , 0.+0.j   , 0.+0.j   , 0.-0.008j,\n",
       "        1.+0.j   , 0.+0.j   , 0.+0.j   , 0.+0.j   , 0.+0.008j, 0.+0.j   ,\n",
       "        0.+0.j   , 0.+0.j   , 0.+0.j   , 0.+0.j   ],\n",
       "       [0.+0.j   , 0.+0.j   , 0.+0.j   , 0.+0.j   , 0.-0.008j, 0.+0.j   ,\n",
       "        0.+0.j   , 1.+0.j   , 0.+0.j   , 0.+0.j   , 0.+0.j   , 0.+0.008j,\n",
       "        0.+0.j   , 0.+0.j   , 0.+0.j   , 0.+0.j   ],\n",
       "       [0.+0.j   , 0.+0.j   , 0.+0.j   , 0.+0.j   , 0.+0.008j, 0.+0.j   ,\n",
       "        0.+0.j   , 0.+0.j   , 1.+0.j   , 0.+0.j   , 0.+0.j   , 0.-0.008j,\n",
       "        0.+0.j   , 0.+0.j   , 0.+0.j   , 0.+0.j   ],\n",
       "       [0.+0.j   , 0.+0.j   , 0.+0.j   , 0.+0.j   , 0.+0.j   , 0.+0.008j,\n",
       "        0.+0.j   , 0.+0.j   , 0.+0.j   , 1.+0.j   , 0.-0.008j, 0.+0.j   ,\n",
       "        0.+0.j   , 0.+0.j   , 0.+0.j   , 0.+0.j   ],\n",
       "       [0.+0.j   , 0.+0.j   , 0.+0.j   , 0.+0.j   , 0.+0.j   , 0.+0.j   ,\n",
       "        0.+0.008j, 0.+0.j   , 0.+0.j   , 0.-0.008j, 1.+0.j   , 0.+0.j   ,\n",
       "        0.+0.j   , 0.+0.j   , 0.+0.j   , 0.+0.j   ],\n",
       "       [0.+0.j   , 0.+0.j   , 0.+0.j   , 0.+0.j   , 0.+0.j   , 0.+0.j   ,\n",
       "        0.+0.j   , 0.+0.008j, 0.-0.008j, 0.+0.j   , 0.+0.j   , 1.+0.j   ,\n",
       "        0.+0.j   , 0.+0.j   , 0.+0.j   , 0.+0.j   ],\n",
       "       [0.+0.008j, 0.+0.j   , 0.+0.j   , 0.+0.j   , 0.+0.j   , 0.+0.j   ,\n",
       "        0.+0.j   , 0.+0.j   , 0.+0.j   , 0.+0.j   , 0.+0.j   , 0.+0.j   ,\n",
       "        1.+0.j   , 0.+0.j   , 0.+0.j   , 0.-0.008j],\n",
       "       [0.+0.j   , 0.+0.008j, 0.+0.j   , 0.+0.j   , 0.+0.j   , 0.+0.j   ,\n",
       "        0.+0.j   , 0.+0.j   , 0.+0.j   , 0.+0.j   , 0.+0.j   , 0.+0.j   ,\n",
       "        0.+0.j   , 1.+0.j   , 0.-0.008j, 0.+0.j   ],\n",
       "       [0.+0.j   , 0.+0.j   , 0.+0.008j, 0.+0.j   , 0.+0.j   , 0.+0.j   ,\n",
       "        0.+0.j   , 0.+0.j   , 0.+0.j   , 0.+0.j   , 0.+0.j   , 0.+0.j   ,\n",
       "        0.+0.j   , 0.-0.008j, 1.+0.j   , 0.+0.j   ],\n",
       "       [0.+0.j   , 0.+0.j   , 0.+0.j   , 0.+0.008j, 0.+0.j   , 0.+0.j   ,\n",
       "        0.+0.j   , 0.+0.j   , 0.+0.j   , 0.+0.j   , 0.+0.j   , 0.+0.j   ,\n",
       "        0.-0.008j, 0.+0.j   , 0.+0.j   , 1.+0.j   ]], dtype=complex64)"
      ]
     },
     "execution_count": 553,
     "metadata": {},
     "output_type": "execute_result"
    }
   ],
   "source": [
    "from mitiq.pec.channels import choi_to_super, _circuit_to_choi\n",
    "\n",
    "superop_rxx_mitiq = choi_to_super(_circuit_to_choi(circuitXX))\n",
    "superop_ryy_mitiq = choi_to_super(_circuit_to_choi(circuitYY))\n",
    "superop_rzz_mitiq = choi_to_super(_circuit_to_choi(circuitZZ))\n",
    "# print(superop_rxx_mitiq)\n",
    "# print(superop_ryy_mitiq)\n",
    "superop_rxx_mitiq"
   ]
  },
  {
   "cell_type": "markdown",
   "metadata": {},
   "source": [
    "## Get superoperators. Method 2"
   ]
  },
  {
   "cell_type": "code",
   "execution_count": 528,
   "metadata": {
    "collapsed": true
   },
   "outputs": [
    {
     "name": "stdout",
     "output_type": "stream",
     "text": [
      "[[0.998+0.j    0.   +0.j    0.   +0.j    0.   -0.039j 0.   +0.j\n",
      "  0.   +0.j    0.   +0.j    0.   +0.j    0.   +0.j    0.   +0.j\n",
      "  0.   +0.j    0.   +0.j    0.   +0.039j 0.   +0.j    0.   +0.j\n",
      "  0.002+0.j   ]\n",
      " [0.   +0.j    0.998+0.j    0.   -0.039j 0.   +0.j    0.   +0.j\n",
      "  0.   +0.j    0.   +0.j    0.   +0.j    0.   +0.j    0.   +0.j\n",
      "  0.   +0.j    0.   +0.j    0.   +0.j    0.   +0.039j 0.002+0.j\n",
      "  0.   +0.j   ]\n",
      " [0.   +0.j    0.   -0.039j 0.998+0.j    0.   +0.j    0.   +0.j\n",
      "  0.   +0.j    0.   +0.j    0.   +0.j    0.   +0.j    0.   +0.j\n",
      "  0.   +0.j    0.   +0.j    0.   +0.j    0.002+0.j    0.   +0.039j\n",
      "  0.   +0.j   ]\n",
      " [0.   -0.039j 0.   +0.j    0.   +0.j    0.998+0.j    0.   +0.j\n",
      "  0.   +0.j    0.   +0.j    0.   +0.j    0.   +0.j    0.   +0.j\n",
      "  0.   +0.j    0.   +0.j    0.002+0.j    0.   +0.j    0.   +0.j\n",
      "  0.   +0.039j]\n",
      " [0.   +0.j    0.   +0.j    0.   +0.j    0.   +0.j    0.998+0.j\n",
      "  0.   +0.j    0.   +0.j    0.   -0.039j 0.   +0.039j 0.   +0.j\n",
      "  0.   +0.j    0.002+0.j    0.   +0.j    0.   +0.j    0.   +0.j\n",
      "  0.   +0.j   ]\n",
      " [0.   +0.j    0.   +0.j    0.   +0.j    0.   +0.j    0.   +0.j\n",
      "  0.998+0.j    0.   -0.039j 0.   +0.j    0.   +0.j    0.   +0.039j\n",
      "  0.002+0.j    0.   +0.j    0.   +0.j    0.   +0.j    0.   +0.j\n",
      "  0.   +0.j   ]\n",
      " [0.   +0.j    0.   +0.j    0.   +0.j    0.   +0.j    0.   +0.j\n",
      "  0.   -0.039j 0.998+0.j    0.   +0.j    0.   +0.j    0.002+0.j\n",
      "  0.   +0.039j 0.   +0.j    0.   +0.j    0.   +0.j    0.   +0.j\n",
      "  0.   +0.j   ]\n",
      " [0.   +0.j    0.   +0.j    0.   +0.j    0.   +0.j    0.   -0.039j\n",
      "  0.   +0.j    0.   +0.j    0.998+0.j    0.002+0.j    0.   +0.j\n",
      "  0.   +0.j    0.   +0.039j 0.   +0.j    0.   +0.j    0.   +0.j\n",
      "  0.   +0.j   ]\n",
      " [0.   +0.j    0.   +0.j    0.   +0.j    0.   +0.j    0.   +0.039j\n",
      "  0.   +0.j    0.   +0.j    0.002+0.j    0.998+0.j    0.   +0.j\n",
      "  0.   +0.j    0.   -0.039j 0.   +0.j    0.   +0.j    0.   +0.j\n",
      "  0.   +0.j   ]\n",
      " [0.   +0.j    0.   +0.j    0.   +0.j    0.   +0.j    0.   +0.j\n",
      "  0.   +0.039j 0.002+0.j    0.   +0.j    0.   +0.j    0.998+0.j\n",
      "  0.   -0.039j 0.   +0.j    0.   +0.j    0.   +0.j    0.   +0.j\n",
      "  0.   +0.j   ]\n",
      " [0.   +0.j    0.   +0.j    0.   +0.j    0.   +0.j    0.   +0.j\n",
      "  0.002+0.j    0.   +0.039j 0.   +0.j    0.   +0.j    0.   -0.039j\n",
      "  0.998+0.j    0.   +0.j    0.   +0.j    0.   +0.j    0.   +0.j\n",
      "  0.   +0.j   ]\n",
      " [0.   +0.j    0.   +0.j    0.   +0.j    0.   +0.j    0.002+0.j\n",
      "  0.   +0.j    0.   +0.j    0.   +0.039j 0.   -0.039j 0.   +0.j\n",
      "  0.   +0.j    0.998+0.j    0.   +0.j    0.   +0.j    0.   +0.j\n",
      "  0.   +0.j   ]\n",
      " [0.   +0.039j 0.   +0.j    0.   +0.j    0.002+0.j    0.   +0.j\n",
      "  0.   +0.j    0.   +0.j    0.   +0.j    0.   +0.j    0.   +0.j\n",
      "  0.   +0.j    0.   +0.j    0.998+0.j    0.   +0.j    0.   +0.j\n",
      "  0.   -0.039j]\n",
      " [0.   +0.j    0.   +0.039j 0.002+0.j    0.   +0.j    0.   +0.j\n",
      "  0.   +0.j    0.   +0.j    0.   +0.j    0.   +0.j    0.   +0.j\n",
      "  0.   +0.j    0.   +0.j    0.   +0.j    0.998+0.j    0.   -0.039j\n",
      "  0.   +0.j   ]\n",
      " [0.   +0.j    0.002+0.j    0.   +0.039j 0.   +0.j    0.   +0.j\n",
      "  0.   +0.j    0.   +0.j    0.   +0.j    0.   +0.j    0.   +0.j\n",
      "  0.   +0.j    0.   +0.j    0.   +0.j    0.   -0.039j 0.998+0.j\n",
      "  0.   +0.j   ]\n",
      " [0.002+0.j    0.   +0.j    0.   +0.j    0.   +0.039j 0.   +0.j\n",
      "  0.   +0.j    0.   +0.j    0.   +0.j    0.   +0.j    0.   +0.j\n",
      "  0.   +0.j    0.   +0.j    0.   -0.039j 0.   +0.j    0.   +0.j\n",
      "  0.998+0.j   ]]\n",
      "[[1.   +0.j    0.   +0.j    0.   +0.j    0.   +0.j    0.   +0.j\n",
      "  0.   +0.j    0.   +0.j    0.   +0.j    0.   +0.j    0.   +0.j\n",
      "  0.   +0.j    0.   +0.j    0.   +0.j    0.   +0.j    0.   +0.j\n",
      "  0.   +0.j   ]\n",
      " [0.   +0.j    0.997+0.078j 0.   +0.j    0.   +0.j    0.   +0.j\n",
      "  0.   +0.j    0.   +0.j    0.   +0.j    0.   +0.j    0.   +0.j\n",
      "  0.   +0.j    0.   +0.j    0.   +0.j    0.   +0.j    0.   +0.j\n",
      "  0.   +0.j   ]\n",
      " [0.   +0.j    0.   +0.j    0.997+0.078j 0.   +0.j    0.   +0.j\n",
      "  0.   +0.j    0.   +0.j    0.   +0.j    0.   +0.j    0.   +0.j\n",
      "  0.   +0.j    0.   +0.j    0.   +0.j    0.   +0.j    0.   +0.j\n",
      "  0.   +0.j   ]\n",
      " [0.   +0.j    0.   +0.j    0.   +0.j    1.   +0.j    0.   +0.j\n",
      "  0.   +0.j    0.   +0.j    0.   +0.j    0.   +0.j    0.   +0.j\n",
      "  0.   +0.j    0.   +0.j    0.   +0.j    0.   +0.j    0.   +0.j\n",
      "  0.   +0.j   ]\n",
      " [0.   +0.j    0.   +0.j    0.   +0.j    0.   +0.j    0.997-0.078j\n",
      "  0.   +0.j    0.   +0.j    0.   +0.j    0.   +0.j    0.   +0.j\n",
      "  0.   +0.j    0.   +0.j    0.   +0.j    0.   +0.j    0.   +0.j\n",
      "  0.   +0.j   ]\n",
      " [0.   +0.j    0.   +0.j    0.   +0.j    0.   +0.j    0.   +0.j\n",
      "  1.   +0.j    0.   +0.j    0.   +0.j    0.   +0.j    0.   +0.j\n",
      "  0.   +0.j    0.   +0.j    0.   +0.j    0.   +0.j    0.   +0.j\n",
      "  0.   +0.j   ]\n",
      " [0.   +0.j    0.   +0.j    0.   +0.j    0.   +0.j    0.   +0.j\n",
      "  0.   +0.j    1.   +0.j    0.   +0.j    0.   +0.j    0.   +0.j\n",
      "  0.   +0.j    0.   +0.j    0.   +0.j    0.   +0.j    0.   +0.j\n",
      "  0.   +0.j   ]\n",
      " [0.   +0.j    0.   +0.j    0.   +0.j    0.   +0.j    0.   +0.j\n",
      "  0.   +0.j    0.   +0.j    0.997-0.078j 0.   +0.j    0.   +0.j\n",
      "  0.   +0.j    0.   +0.j    0.   +0.j    0.   +0.j    0.   +0.j\n",
      "  0.   +0.j   ]\n",
      " [0.   +0.j    0.   +0.j    0.   +0.j    0.   +0.j    0.   +0.j\n",
      "  0.   +0.j    0.   +0.j    0.   +0.j    0.997-0.078j 0.   +0.j\n",
      "  0.   +0.j    0.   +0.j    0.   +0.j    0.   +0.j    0.   +0.j\n",
      "  0.   +0.j   ]\n",
      " [0.   +0.j    0.   +0.j    0.   +0.j    0.   +0.j    0.   +0.j\n",
      "  0.   +0.j    0.   +0.j    0.   +0.j    0.   +0.j    1.   +0.j\n",
      "  0.   +0.j    0.   +0.j    0.   +0.j    0.   +0.j    0.   +0.j\n",
      "  0.   +0.j   ]\n",
      " [0.   +0.j    0.   +0.j    0.   +0.j    0.   +0.j    0.   +0.j\n",
      "  0.   +0.j    0.   +0.j    0.   +0.j    0.   +0.j    0.   +0.j\n",
      "  1.   +0.j    0.   +0.j    0.   +0.j    0.   +0.j    0.   +0.j\n",
      "  0.   +0.j   ]\n",
      " [0.   +0.j    0.   +0.j    0.   +0.j    0.   +0.j    0.   +0.j\n",
      "  0.   +0.j    0.   +0.j    0.   +0.j    0.   +0.j    0.   +0.j\n",
      "  0.   +0.j    0.997-0.078j 0.   +0.j    0.   +0.j    0.   +0.j\n",
      "  0.   +0.j   ]\n",
      " [0.   +0.j    0.   +0.j    0.   +0.j    0.   +0.j    0.   +0.j\n",
      "  0.   +0.j    0.   +0.j    0.   +0.j    0.   +0.j    0.   +0.j\n",
      "  0.   +0.j    0.   +0.j    1.   +0.j    0.   +0.j    0.   +0.j\n",
      "  0.   +0.j   ]\n",
      " [0.   +0.j    0.   +0.j    0.   +0.j    0.   +0.j    0.   +0.j\n",
      "  0.   +0.j    0.   +0.j    0.   +0.j    0.   +0.j    0.   +0.j\n",
      "  0.   +0.j    0.   +0.j    0.   +0.j    0.997+0.078j 0.   +0.j\n",
      "  0.   +0.j   ]\n",
      " [0.   +0.j    0.   +0.j    0.   +0.j    0.   +0.j    0.   +0.j\n",
      "  0.   +0.j    0.   +0.j    0.   +0.j    0.   +0.j    0.   +0.j\n",
      "  0.   +0.j    0.   +0.j    0.   +0.j    0.   +0.j    0.997+0.078j\n",
      "  0.   +0.j   ]\n",
      " [0.   +0.j    0.   +0.j    0.   +0.j    0.   +0.j    0.   +0.j\n",
      "  0.   +0.j    0.   +0.j    0.   +0.j    0.   +0.j    0.   +0.j\n",
      "  0.   +0.j    0.   +0.j    0.   +0.j    0.   +0.j    0.   +0.j\n",
      "  1.   +0.j   ]]\n"
     ]
    }
   ],
   "source": [
    "superop_rxx_cirq = cirq.kraus_to_superoperator(cirq.kraus(circuitXX))\n",
    "superop_rzz_cirq = cirq.kraus_to_superoperator(cirq.kraus(circuitZZ))\n",
    "print(superop_rxx_cirq)\n",
    "print(superop_rzz_cirq)"
   ]
  },
  {
   "cell_type": "markdown",
   "metadata": {},
   "source": [
    "## Get superoperators from QuTiP (qiskit too)"
   ]
  },
  {
   "cell_type": "code",
   "execution_count": 577,
   "metadata": {},
   "outputs": [],
   "source": [
    "## This is the \\sigma_+ \\sigma_- part:\n",
    "n_qubits = 2\n",
    "al = 1\n",
    "L = 0\n",
    "for n in range(n_qubits):\n",
    "    c_op_left = expand_operator(sigmap(), n_qubits, n)\n",
    "    c_op_right = expand_operator(sigmam(), n_qubits, n)\n",
    "    L += al*sprepost(c_op_left, c_op_right)\n",
    "    both = -0.5 * al * c_op_right * c_op_left\n",
    "    L += spre(both)\n",
    "    L += spost(both)"
   ]
  },
  {
   "cell_type": "code",
   "execution_count": 578,
   "metadata": {},
   "outputs": [
    {
     "data": {
      "text/latex": [
       "Quantum object: dims = [[[2, 2], [2, 2]], [[2, 2], [2, 2]]], shape = (16, 16), type = super, isherm = False\\begin{equation*}\\left(\\begin{array}{*{11}c}0.0 & 0.0 & 0.0 & 0.0 & 0.0 & \\cdots & 0.0 & 0.0 & 0.0 & 0.0 & 0.0\\\\0.0 & -0.500 & 0.0 & 0.0 & 0.0 & \\cdots & 1.0 & 0.0 & 0.0 & 0.0 & 0.0\\\\0.0 & 0.0 & -0.500 & 0.0 & 0.0 & \\cdots & 0.0 & 0.0 & 0.0 & 0.0 & 0.0\\\\0.0 & 0.0 & 0.0 & -1.0 & 0.0 & \\cdots & 0.0 & 0.0 & 0.0 & 0.0 & 0.0\\\\0.0 & 0.0 & 0.0 & 0.0 & -0.500 & \\cdots & 0.0 & 0.0 & 0.0 & 1.0 & 0.0\\\\\\vdots & \\vdots & \\vdots & \\vdots & \\vdots & \\ddots & \\vdots & \\vdots & \\vdots & \\vdots & \\vdots\\\\0.0 & 0.0 & 0.0 & 0.0 & 0.0 & \\cdots & -1.500 & 0.0 & 0.0 & 0.0 & 0.0\\\\0.0 & 0.0 & 0.0 & 0.0 & 0.0 & \\cdots & 0.0 & -1.0 & 0.0 & 0.0 & 0.0\\\\0.0 & 0.0 & 0.0 & 0.0 & 0.0 & \\cdots & 0.0 & 0.0 & -1.500 & 0.0 & 0.0\\\\0.0 & 0.0 & 0.0 & 0.0 & 0.0 & \\cdots & 0.0 & 0.0 & 0.0 & -1.500 & 0.0\\\\0.0 & 0.0 & 0.0 & 0.0 & 0.0 & \\cdots & 0.0 & 0.0 & 0.0 & 0.0 & -2.0\\\\\\end{array}\\right)\\end{equation*}"
      ],
      "text/plain": [
       "Quantum object: dims = [[[2, 2], [2, 2]], [[2, 2], [2, 2]]], shape = (16, 16), type = super, isherm = False\n",
       "Qobj data =\n",
       "[[ 0.   0.   0.   0.   0.   1.   0.   0.   0.   0.   1.   0.   0.   0.\n",
       "   0.   0. ]\n",
       " [ 0.  -0.5  0.   0.   0.   0.   0.   0.   0.   0.   0.   1.   0.   0.\n",
       "   0.   0. ]\n",
       " [ 0.   0.  -0.5  0.   0.   0.   0.   1.   0.   0.   0.   0.   0.   0.\n",
       "   0.   0. ]\n",
       " [ 0.   0.   0.  -1.   0.   0.   0.   0.   0.   0.   0.   0.   0.   0.\n",
       "   0.   0. ]\n",
       " [ 0.   0.   0.   0.  -0.5  0.   0.   0.   0.   0.   0.   0.   0.   0.\n",
       "   1.   0. ]\n",
       " [ 0.   0.   0.   0.   0.  -1.   0.   0.   0.   0.   0.   0.   0.   0.\n",
       "   0.   1. ]\n",
       " [ 0.   0.   0.   0.   0.   0.  -1.   0.   0.   0.   0.   0.   0.   0.\n",
       "   0.   0. ]\n",
       " [ 0.   0.   0.   0.   0.   0.   0.  -1.5  0.   0.   0.   0.   0.   0.\n",
       "   0.   0. ]\n",
       " [ 0.   0.   0.   0.   0.   0.   0.   0.  -0.5  0.   0.   0.   0.   1.\n",
       "   0.   0. ]\n",
       " [ 0.   0.   0.   0.   0.   0.   0.   0.   0.  -1.   0.   0.   0.   0.\n",
       "   0.   0. ]\n",
       " [ 0.   0.   0.   0.   0.   0.   0.   0.   0.   0.  -1.   0.   0.   0.\n",
       "   0.   1. ]\n",
       " [ 0.   0.   0.   0.   0.   0.   0.   0.   0.   0.   0.  -1.5  0.   0.\n",
       "   0.   0. ]\n",
       " [ 0.   0.   0.   0.   0.   0.   0.   0.   0.   0.   0.   0.  -1.   0.\n",
       "   0.   0. ]\n",
       " [ 0.   0.   0.   0.   0.   0.   0.   0.   0.   0.   0.   0.   0.  -1.5\n",
       "   0.   0. ]\n",
       " [ 0.   0.   0.   0.   0.   0.   0.   0.   0.   0.   0.   0.   0.   0.\n",
       "  -1.5  0. ]\n",
       " [ 0.   0.   0.   0.   0.   0.   0.   0.   0.   0.   0.   0.   0.   0.\n",
       "   0.  -2. ]]"
      ]
     },
     "execution_count": 578,
     "metadata": {},
     "output_type": "execute_result"
    }
   ],
   "source": [
    "L"
   ]
  },
  {
   "cell_type": "code",
   "execution_count": 579,
   "metadata": {},
   "outputs": [
    {
     "data": {
      "text/latex": [
       "Quantum object: dims = [[[2, 2], [2, 2]], [[2, 2], [2, 2]]], shape = (16, 16), type = super, isherm = False\\begin{equation*}\\left(\\begin{array}{*{11}c}1.0 & 0.0 & 0.0 & 0.0 & 0.0 & \\cdots & 0.0 & 0.0 & 0.0 & 0.0 & 8.973\\times10^{-06}\\\\0.0 & 0.999 & 0.0 & 0.0 & 0.0 & \\cdots & 0.003 & 0.0 & 0.0 & 0.0 & 0.0\\\\0.0 & 0.0 & 0.999 & 0.0 & 0.0 & \\cdots & 0.0 & 0.0 & 0.0 & 0.0 & 0.0\\\\0.0 & 0.0 & 0.0 & 0.997 & 0.0 & \\cdots & 0.0 & 0.0 & 0.0 & 0.0 & 0.0\\\\0.0 & 0.0 & 0.0 & 0.0 & 0.999 & \\cdots & 0.0 & 0.0 & 0.0 & 0.003 & 0.0\\\\\\vdots & \\vdots & \\vdots & \\vdots & \\vdots & \\ddots & \\vdots & \\vdots & \\vdots & \\vdots & \\vdots\\\\0.0 & 0.0 & 0.0 & 0.0 & 0.0 & \\cdots & 0.996 & 0.0 & 0.0 & 0.0 & 0.0\\\\0.0 & 0.0 & 0.0 & 0.0 & 0.0 & \\cdots & 0.0 & 0.997 & 0.0 & 0.0 & 0.0\\\\0.0 & 0.0 & 0.0 & 0.0 & 0.0 & \\cdots & 0.0 & 0.0 & 0.996 & 0.0 & 0.0\\\\0.0 & 0.0 & 0.0 & 0.0 & 0.0 & \\cdots & 0.0 & 0.0 & 0.0 & 0.996 & 0.0\\\\0.0 & 0.0 & 0.0 & 0.0 & 0.0 & \\cdots & 0.0 & 0.0 & 0.0 & 0.0 & 0.994\\\\\\end{array}\\right)\\end{equation*}"
      ],
      "text/plain": [
       "Quantum object: dims = [[[2, 2], [2, 2]], [[2, 2], [2, 2]]], shape = (16, 16), type = super, isherm = False\n",
       "Qobj data =\n",
       "[[1.    0.    0.    0.    0.    0.003 0.    0.    0.    0.    0.003 0.\n",
       "  0.    0.    0.    0.   ]\n",
       " [0.    0.999 0.    0.    0.    0.    0.    0.    0.    0.    0.    0.003\n",
       "  0.    0.    0.    0.   ]\n",
       " [0.    0.    0.999 0.    0.    0.    0.    0.003 0.    0.    0.    0.\n",
       "  0.    0.    0.    0.   ]\n",
       " [0.    0.    0.    0.997 0.    0.    0.    0.    0.    0.    0.    0.\n",
       "  0.    0.    0.    0.   ]\n",
       " [0.    0.    0.    0.    0.999 0.    0.    0.    0.    0.    0.    0.\n",
       "  0.    0.    0.003 0.   ]\n",
       " [0.    0.    0.    0.    0.    0.997 0.    0.    0.    0.    0.    0.\n",
       "  0.    0.    0.    0.003]\n",
       " [0.    0.    0.    0.    0.    0.    0.997 0.    0.    0.    0.    0.\n",
       "  0.    0.    0.    0.   ]\n",
       " [0.    0.    0.    0.    0.    0.    0.    0.996 0.    0.    0.    0.\n",
       "  0.    0.    0.    0.   ]\n",
       " [0.    0.    0.    0.    0.    0.    0.    0.    0.999 0.    0.    0.\n",
       "  0.    0.003 0.    0.   ]\n",
       " [0.    0.    0.    0.    0.    0.    0.    0.    0.    0.997 0.    0.\n",
       "  0.    0.    0.    0.   ]\n",
       " [0.    0.    0.    0.    0.    0.    0.    0.    0.    0.    0.997 0.\n",
       "  0.    0.    0.    0.003]\n",
       " [0.    0.    0.    0.    0.    0.    0.    0.    0.    0.    0.    0.996\n",
       "  0.    0.    0.    0.   ]\n",
       " [0.    0.    0.    0.    0.    0.    0.    0.    0.    0.    0.    0.\n",
       "  0.997 0.    0.    0.   ]\n",
       " [0.    0.    0.    0.    0.    0.    0.    0.    0.    0.    0.    0.\n",
       "  0.    0.996 0.    0.   ]\n",
       " [0.    0.    0.    0.    0.    0.    0.    0.    0.    0.    0.    0.\n",
       "  0.    0.    0.996 0.   ]\n",
       " [0.    0.    0.    0.    0.    0.    0.    0.    0.    0.    0.    0.\n",
       "  0.    0.    0.    0.994]]"
      ]
     },
     "execution_count": 579,
     "metadata": {},
     "output_type": "execute_result"
    }
   ],
   "source": [
    "ga = 0.003; t = 1\n",
    "ell = Qobj(ga*t*L).expm()\n",
    "ell"
   ]
  },
  {
   "cell_type": "code",
   "execution_count": 580,
   "metadata": {},
   "outputs": [],
   "source": [
    "## This is the \\sigma_+ \\sigma_- part:\n",
    "nk = 2\n",
    "lz = 0\n",
    "al = 1\n",
    "be = 1\n",
    "for n in range(nk):\n",
    "    c_op_left = expand_operator(sigmap(), nk, n)\n",
    "    c_op_right = expand_operator(sigmam(), nk, n)\n",
    "    z_op_left = expand_operator(sigmaz(), nk, n)\n",
    "    z_op_right = expand_operator(sigmaz(), nk, n)\n",
    "    lz += al * sprepost(c_op_left, c_op_right)\n",
    "    lz += be * sprepost(z_op_left, z_op_right)\n",
    "    both = -0.5 * al * c_op_right * c_op_left\n",
    "    bothz = -0.5 * be * z_op_right * z_op_left\n",
    "    lz += spre(both)\n",
    "    lz += spost(both)\n",
    "    lz += spre(bothz)\n",
    "    lz += spost(bothz)"
   ]
  },
  {
   "cell_type": "code",
   "execution_count": 581,
   "metadata": {},
   "outputs": [],
   "source": [
    "de = 0.001; t = 1\n",
    "L_AD = Qobj(de*t*lz).expm()\n",
    "# L_AD"
   ]
  },
  {
   "cell_type": "code",
   "execution_count": 582,
   "metadata": {},
   "outputs": [
    {
     "data": {
      "text/plain": [
       "<qiskit.circuit.instructionset.InstructionSet at 0x7fd2719d4340>"
      ]
     },
     "execution_count": 582,
     "metadata": {},
     "output_type": "execute_result"
    }
   ],
   "source": [
    "## 1 qubit stuff\n",
    "qcrz = QuantumCircuit(1)\n",
    "qcrz.rz(thet, 0)\n",
    "qcrx = QuantumCircuit(1)\n",
    "qcrx.rx(thet, 0)\n",
    "\n",
    "qcx = QuantumCircuit(1)\n",
    "qcx.x(0)\n",
    "\n",
    "qcsx = QuantumCircuit(1)\n",
    "qcsx.sx(0)\n",
    "\n",
    "## 2 qubit stuff\n",
    "# 1 qubit gates on 2 qubits\n",
    "qcrzi = QuantumCircuit(2)\n",
    "qcrzi.rz(thet, 0)\n",
    "qcirz = QuantumCircuit(2)\n",
    "qcirz.rz(thet, 1)\n",
    "qcrxi = QuantumCircuit(2)\n",
    "qcrxi.rx(thet, 0)\n",
    "qcirx = QuantumCircuit(2)\n",
    "qcirx.rx(thet, 1)\n",
    "\n",
    "qcxi = QuantumCircuit(2)\n",
    "qcxi.x(0)\n",
    "qcix = QuantumCircuit(2)\n",
    "qcix.x(1)\n",
    "\n",
    "qcsxi = QuantumCircuit(2)\n",
    "qcsxi.sx(0)\n",
    "qcisx = QuantumCircuit(2)\n",
    "qcisx.sx(1)\n",
    "\n",
    "# the 2 qubit gates to simulate\n",
    "qczz = QuantumCircuit(2)\n",
    "qczz.rzz(thet, 0, 1)\n",
    "qcxx = QuantumCircuit(2)\n",
    "qcxx.rxx(thet, 0, 1)\n",
    "qcyy = QuantumCircuit(2)\n",
    "qcyy.ryy(thet, 0, 1)\n",
    "\n",
    "qccx = QuantumCircuit(2)\n",
    "qccx.cx(0, 1)"
   ]
  },
  {
   "cell_type": "code",
   "execution_count": 583,
   "metadata": {},
   "outputs": [],
   "source": [
    "rzSupOp = Qobj(SuperOp(qcrz).data).tidyup(atol=1e-10).full().conj()\n",
    "rxSupOp = Qobj(SuperOp(qcrx).data).tidyup(atol=1e-10).full().conj()"
   ]
  },
  {
   "cell_type": "code",
   "execution_count": 332,
   "metadata": {},
   "outputs": [
    {
     "ename": "ValueError",
     "evalue": "matmul: Input operand 1 has a mismatch in its core dimension 0, with gufunc signature (n?,k),(k,m?)->(n?,m?) (size 16 is different from 4)",
     "output_type": "error",
     "traceback": [
      "\u001b[0;31m---------------------------------------------------------------------------\u001b[0m",
      "\u001b[0;31mValueError\u001b[0m                                Traceback (most recent call last)",
      "Cell \u001b[0;32mIn [332], line 1\u001b[0m\n\u001b[0;32m----> 1\u001b[0m noisy_rz \u001b[38;5;241m=\u001b[39m \u001b[43mrzSupOp\u001b[49m\u001b[43m \u001b[49m\u001b[38;5;241;43m@\u001b[39;49m\u001b[43m \u001b[49m\u001b[43mell\u001b[49m\u001b[38;5;241;43m.\u001b[39;49m\u001b[43mfull\u001b[49m\u001b[43m(\u001b[49m\u001b[43m)\u001b[49m\n\u001b[1;32m      2\u001b[0m noisy_rx \u001b[38;5;241m=\u001b[39m rxSupOp \u001b[38;5;241m@\u001b[39m ell\u001b[38;5;241m.\u001b[39mfull()\n",
      "\u001b[0;31mValueError\u001b[0m: matmul: Input operand 1 has a mismatch in its core dimension 0, with gufunc signature (n?,k),(k,m?)->(n?,m?) (size 16 is different from 4)"
     ]
    }
   ],
   "source": [
    "noisy_rz = rzSupOp @ ell.full()\n",
    "noisy_rx = rxSupOp @ ell.full()"
   ]
  },
  {
   "cell_type": "code",
   "execution_count": 584,
   "metadata": {},
   "outputs": [],
   "source": [
    "rrziSupOp = Qobj(SuperOp(qcrzi).data).tidyup(atol=1e-10).full().conj()\n",
    "rrxiSupOp = Qobj(SuperOp(qcrxi).data).tidyup(atol=1e-10).full().conj()\n",
    "rirzSupOp = Qobj(SuperOp(qcirz).data).tidyup(atol=1e-10).full().conj()\n",
    "rirxSupOp = Qobj(SuperOp(qcirx).data).tidyup(atol=1e-10).full().conj()\n",
    "rxiSupOp = Qobj(SuperOp(qcxi).data).tidyup(atol=1e-10).full().conj()\n",
    "rixSupOp = Qobj(SuperOp(qcix).data).tidyup(atol=1e-10).full().conj()\n",
    "rsxiSupOp = Qobj(SuperOp(qcsxi).data).tidyup(atol=1e-10).full().conj()\n",
    "risxSupOp = Qobj(SuperOp(qcisx).data).tidyup(atol=1e-10).full().conj()"
   ]
  },
  {
   "cell_type": "code",
   "execution_count": 585,
   "metadata": {},
   "outputs": [],
   "source": [
    "noisy_rzi = rrziSupOp @ ell.full()\n",
    "noisy_riz = rirzSupOp @ ell.full()\n",
    "noisy_rxi = rrxiSupOp @ ell.full()\n",
    "noisy_rix = rirxSupOp @ ell.full()\n",
    "noisy_xi = rxiSupOp @ ell.full()\n",
    "noisy_ix = rixSupOp @ ell.full()\n",
    "noisy_sxi = rsxiSupOp @ ell.full()\n",
    "noisy_isx = risxSupOp @ ell.full()"
   ]
  },
  {
   "cell_type": "code",
   "execution_count": 586,
   "metadata": {},
   "outputs": [],
   "source": [
    "noisy_rzi_ad = rrziSupOp @ L_AD.full()\n",
    "noisy_riz_ad = rirzSupOp @ L_AD.full()\n",
    "noisy_rxi_ad = rrxiSupOp @ L_AD.full()\n",
    "noisy_rix_ad = rirxSupOp @ L_AD.full()\n",
    "noisy_xi_ad = rxiSupOp @ L_AD.full()\n",
    "noisy_ix_ad = rixSupOp @ L_AD.full()\n",
    "noisy_sxi_ad = rsxiSupOp @ L_AD.full()\n",
    "noisy_isx_ad = risxSupOp @ L_AD.full()"
   ]
  },
  {
   "cell_type": "code",
   "execution_count": 587,
   "metadata": {},
   "outputs": [],
   "source": [
    "rzzSupOp = Qobj(SuperOp(qczz).data).tidyup(atol=1e-10).full().conj()\n",
    "rxxSupOp = Qobj(SuperOp(qcxx).data).tidyup(atol=1e-10).full().conj()\n",
    "ryySupOp = Qobj(SuperOp(qcyy).data).tidyup(atol=1e-10).full().conj()"
   ]
  },
  {
   "cell_type": "code",
   "execution_count": 588,
   "metadata": {},
   "outputs": [],
   "source": [
    "noisy_rzz = rzzSupOp @ ell.full()\n",
    "noisy_rxx = rxxSupOp @ ell.full()\n",
    "noisy_ryy = ryySupOp @ ell.full()"
   ]
  },
  {
   "cell_type": "code",
   "execution_count": 589,
   "metadata": {},
   "outputs": [],
   "source": [
    "noisy_rzz_ad = rzzSupOp @ L_AD.full()\n",
    "noisy_rxx_ad = rxxSupOp @ L_AD.full()\n",
    "noisy_ryy_ad = ryySupOp @ L_AD.full()"
   ]
  },
  {
   "cell_type": "code",
   "execution_count": 590,
   "metadata": {},
   "outputs": [
    {
     "data": {
      "text/latex": [
       "Quantum object: dims = [[16], [16]], shape = (16, 16), type = oper, isherm = False\\begin{equation*}\\left(\\begin{array}{*{11}c}1.000 & 0.0 & 0.0 & 0.0 & 0.0 & \\cdots & 0.0 & 0.0 & 0.0 & 0.0 & 8.973\\times10^{-06}\\\\0.0 & (0.998+0.008j) & 0.0 & 0.0 & 0.0 & \\cdots & (0.003+2.349\\times10^{-05}j) & 0.0 & 0.0 & 0.0 & 0.0\\\\0.0 & 0.0 & (0.998+0.008j) & 0.0 & 0.0 & \\cdots & 0.0 & 0.0 & 0.0 & 0.0 & 0.0\\\\0.0 & 0.0 & 0.0 & 0.997 & 0.0 & \\cdots & 0.0 & 0.0 & 0.0 & 0.0 & 0.0\\\\0.0 & 0.0 & 0.0 & 0.0 & (0.998-0.008j) & \\cdots & 0.0 & 0.0 & 0.0 & (0.003-2.349\\times10^{-05}j) & 0.0\\\\\\vdots & \\vdots & \\vdots & \\vdots & \\vdots & \\ddots & \\vdots & \\vdots & \\vdots & \\vdots & \\vdots\\\\0.0 & 0.0 & 0.0 & 0.0 & 0.0 & \\cdots & (0.995-0.008j) & 0.0 & 0.0 & 0.0 & 0.0\\\\0.0 & 0.0 & 0.0 & 0.0 & 0.0 & \\cdots & 0.0 & 0.997 & 0.0 & 0.0 & 0.0\\\\0.0 & 0.0 & 0.0 & 0.0 & 0.0 & \\cdots & 0.0 & 0.0 & (0.995+0.008j) & 0.0 & 0.0\\\\0.0 & 0.0 & 0.0 & 0.0 & 0.0 & \\cdots & 0.0 & 0.0 & 0.0 & (0.995+0.008j) & 0.0\\\\0.0 & 0.0 & 0.0 & 0.0 & 0.0 & \\cdots & 0.0 & 0.0 & 0.0 & 0.0 & 0.994\\\\\\end{array}\\right)\\end{equation*}"
      ],
      "text/plain": [
       "Quantum object: dims = [[16], [16]], shape = (16, 16), type = oper, isherm = False\n",
       "Qobj data =\n",
       "[[1.   +0.j    0.   +0.j    0.   +0.j    0.   +0.j    0.   +0.j\n",
       "  0.003+0.j    0.   +0.j    0.   +0.j    0.   +0.j    0.   +0.j\n",
       "  0.003+0.j    0.   +0.j    0.   +0.j    0.   +0.j    0.   +0.j\n",
       "  0.   +0.j   ]\n",
       " [0.   +0.j    0.998+0.008j 0.   +0.j    0.   +0.j    0.   +0.j\n",
       "  0.   +0.j    0.   +0.j    0.   +0.j    0.   +0.j    0.   +0.j\n",
       "  0.   +0.j    0.003+0.j    0.   +0.j    0.   +0.j    0.   +0.j\n",
       "  0.   +0.j   ]\n",
       " [0.   +0.j    0.   +0.j    0.998+0.008j 0.   +0.j    0.   +0.j\n",
       "  0.   +0.j    0.   +0.j    0.003+0.j    0.   +0.j    0.   +0.j\n",
       "  0.   +0.j    0.   +0.j    0.   +0.j    0.   +0.j    0.   +0.j\n",
       "  0.   +0.j   ]\n",
       " [0.   +0.j    0.   +0.j    0.   +0.j    0.997+0.j    0.   +0.j\n",
       "  0.   +0.j    0.   +0.j    0.   +0.j    0.   +0.j    0.   +0.j\n",
       "  0.   +0.j    0.   +0.j    0.   +0.j    0.   +0.j    0.   +0.j\n",
       "  0.   +0.j   ]\n",
       " [0.   +0.j    0.   +0.j    0.   +0.j    0.   +0.j    0.998-0.008j\n",
       "  0.   +0.j    0.   +0.j    0.   +0.j    0.   +0.j    0.   +0.j\n",
       "  0.   +0.j    0.   +0.j    0.   +0.j    0.   +0.j    0.003-0.j\n",
       "  0.   +0.j   ]\n",
       " [0.   +0.j    0.   +0.j    0.   +0.j    0.   +0.j    0.   +0.j\n",
       "  0.997+0.j    0.   +0.j    0.   +0.j    0.   +0.j    0.   +0.j\n",
       "  0.   +0.j    0.   +0.j    0.   +0.j    0.   +0.j    0.   +0.j\n",
       "  0.003+0.j   ]\n",
       " [0.   +0.j    0.   +0.j    0.   +0.j    0.   +0.j    0.   +0.j\n",
       "  0.   +0.j    0.997+0.j    0.   +0.j    0.   +0.j    0.   +0.j\n",
       "  0.   +0.j    0.   +0.j    0.   +0.j    0.   +0.j    0.   +0.j\n",
       "  0.   +0.j   ]\n",
       " [0.   +0.j    0.   +0.j    0.   +0.j    0.   +0.j    0.   +0.j\n",
       "  0.   +0.j    0.   +0.j    0.995-0.008j 0.   +0.j    0.   +0.j\n",
       "  0.   +0.j    0.   +0.j    0.   +0.j    0.   +0.j    0.   +0.j\n",
       "  0.   +0.j   ]\n",
       " [0.   +0.j    0.   +0.j    0.   +0.j    0.   +0.j    0.   +0.j\n",
       "  0.   +0.j    0.   +0.j    0.   +0.j    0.998-0.008j 0.   +0.j\n",
       "  0.   +0.j    0.   +0.j    0.   +0.j    0.003-0.j    0.   +0.j\n",
       "  0.   +0.j   ]\n",
       " [0.   +0.j    0.   +0.j    0.   +0.j    0.   +0.j    0.   +0.j\n",
       "  0.   +0.j    0.   +0.j    0.   +0.j    0.   +0.j    0.997+0.j\n",
       "  0.   +0.j    0.   +0.j    0.   +0.j    0.   +0.j    0.   +0.j\n",
       "  0.   +0.j   ]\n",
       " [0.   +0.j    0.   +0.j    0.   +0.j    0.   +0.j    0.   +0.j\n",
       "  0.   +0.j    0.   +0.j    0.   +0.j    0.   +0.j    0.   +0.j\n",
       "  0.997+0.j    0.   +0.j    0.   +0.j    0.   +0.j    0.   +0.j\n",
       "  0.003+0.j   ]\n",
       " [0.   +0.j    0.   +0.j    0.   +0.j    0.   +0.j    0.   +0.j\n",
       "  0.   +0.j    0.   +0.j    0.   +0.j    0.   +0.j    0.   +0.j\n",
       "  0.   +0.j    0.995-0.008j 0.   +0.j    0.   +0.j    0.   +0.j\n",
       "  0.   +0.j   ]\n",
       " [0.   +0.j    0.   +0.j    0.   +0.j    0.   +0.j    0.   +0.j\n",
       "  0.   +0.j    0.   +0.j    0.   +0.j    0.   +0.j    0.   +0.j\n",
       "  0.   +0.j    0.   +0.j    0.997+0.j    0.   +0.j    0.   +0.j\n",
       "  0.   +0.j   ]\n",
       " [0.   +0.j    0.   +0.j    0.   +0.j    0.   +0.j    0.   +0.j\n",
       "  0.   +0.j    0.   +0.j    0.   +0.j    0.   +0.j    0.   +0.j\n",
       "  0.   +0.j    0.   +0.j    0.   +0.j    0.995+0.008j 0.   +0.j\n",
       "  0.   +0.j   ]\n",
       " [0.   +0.j    0.   +0.j    0.   +0.j    0.   +0.j    0.   +0.j\n",
       "  0.   +0.j    0.   +0.j    0.   +0.j    0.   +0.j    0.   +0.j\n",
       "  0.   +0.j    0.   +0.j    0.   +0.j    0.   +0.j    0.995+0.008j\n",
       "  0.   +0.j   ]\n",
       " [0.   +0.j    0.   +0.j    0.   +0.j    0.   +0.j    0.   +0.j\n",
       "  0.   +0.j    0.   +0.j    0.   +0.j    0.   +0.j    0.   +0.j\n",
       "  0.   +0.j    0.   +0.j    0.   +0.j    0.   +0.j    0.   +0.j\n",
       "  0.994+0.j   ]]"
      ]
     },
     "execution_count": 590,
     "metadata": {},
     "output_type": "execute_result"
    }
   ],
   "source": [
    "Qobj(noisy_rzz)"
   ]
  },
  {
   "cell_type": "code",
   "execution_count": 591,
   "metadata": {},
   "outputs": [
    {
     "data": {
      "text/latex": [
       "Quantum object: dims = [[16], [16]], shape = (16, 16), type = oper, isherm = False\\begin{equation*}\\left(\\begin{array}{*{11}c}1.000 & 0.0 & 0.0 & 0.0 & 0.0 & \\cdots & 0.0 & 0.0 & 0.0 & 0.0 & 9.990\\times10^{-07}\\\\0.0 & (0.997+0.008j) & 0.0 & 0.0 & 0.0 & \\cdots & (9.970\\times10^{-04}+7.830\\times10^{-06}j) & 0.0 & 0.0 & 0.0 & 0.0\\\\0.0 & 0.0 & (0.997+0.008j) & 0.0 & 0.0 & \\cdots & 0.0 & 0.0 & 0.0 & 0.0 & 0.0\\\\0.0 & 0.0 & 0.0 & 0.995 & 0.0 & \\cdots & 0.0 & 0.0 & 0.0 & 0.0 & 0.0\\\\0.0 & 0.0 & 0.0 & 0.0 & (0.997-0.008j) & \\cdots & 0.0 & 0.0 & 0.0 & (9.970\\times10^{-04}-7.830\\times10^{-06}j) & 0.0\\\\\\vdots & \\vdots & \\vdots & \\vdots & \\vdots & \\ddots & \\vdots & \\vdots & \\vdots & \\vdots & \\vdots\\\\0.0 & 0.0 & 0.0 & 0.0 & 0.0 & \\cdots & (0.996-0.008j) & 0.0 & 0.0 & 0.0 & 0.0\\\\0.0 & 0.0 & 0.0 & 0.0 & 0.0 & \\cdots & 0.0 & 0.995 & 0.0 & 0.0 & 0.0\\\\0.0 & 0.0 & 0.0 & 0.0 & 0.0 & \\cdots & 0.0 & 0.0 & (0.996+0.008j) & 0.0 & 0.0\\\\0.0 & 0.0 & 0.0 & 0.0 & 0.0 & \\cdots & 0.0 & 0.0 & 0.0 & (0.996+0.008j) & 0.0\\\\0.0 & 0.0 & 0.0 & 0.0 & 0.0 & \\cdots & 0.0 & 0.0 & 0.0 & 0.0 & 0.998\\\\\\end{array}\\right)\\end{equation*}"
      ],
      "text/plain": [
       "Quantum object: dims = [[16], [16]], shape = (16, 16), type = oper, isherm = False\n",
       "Qobj data =\n",
       "[[1.   +0.j    0.   +0.j    0.   +0.j    0.   +0.j    0.   +0.j\n",
       "  0.001+0.j    0.   +0.j    0.   +0.j    0.   +0.j    0.   +0.j\n",
       "  0.001+0.j    0.   +0.j    0.   +0.j    0.   +0.j    0.   +0.j\n",
       "  0.   +0.j   ]\n",
       " [0.   +0.j    0.997+0.008j 0.   +0.j    0.   +0.j    0.   +0.j\n",
       "  0.   +0.j    0.   +0.j    0.   +0.j    0.   +0.j    0.   +0.j\n",
       "  0.   +0.j    0.001+0.j    0.   +0.j    0.   +0.j    0.   +0.j\n",
       "  0.   +0.j   ]\n",
       " [0.   +0.j    0.   +0.j    0.997+0.008j 0.   +0.j    0.   +0.j\n",
       "  0.   +0.j    0.   +0.j    0.001+0.j    0.   +0.j    0.   +0.j\n",
       "  0.   +0.j    0.   +0.j    0.   +0.j    0.   +0.j    0.   +0.j\n",
       "  0.   +0.j   ]\n",
       " [0.   +0.j    0.   +0.j    0.   +0.j    0.995+0.j    0.   +0.j\n",
       "  0.   +0.j    0.   +0.j    0.   +0.j    0.   +0.j    0.   +0.j\n",
       "  0.   +0.j    0.   +0.j    0.   +0.j    0.   +0.j    0.   +0.j\n",
       "  0.   +0.j   ]\n",
       " [0.   +0.j    0.   +0.j    0.   +0.j    0.   +0.j    0.997-0.008j\n",
       "  0.   +0.j    0.   +0.j    0.   +0.j    0.   +0.j    0.   +0.j\n",
       "  0.   +0.j    0.   +0.j    0.   +0.j    0.   +0.j    0.001-0.j\n",
       "  0.   +0.j   ]\n",
       " [0.   +0.j    0.   +0.j    0.   +0.j    0.   +0.j    0.   +0.j\n",
       "  0.999+0.j    0.   +0.j    0.   +0.j    0.   +0.j    0.   +0.j\n",
       "  0.   +0.j    0.   +0.j    0.   +0.j    0.   +0.j    0.   +0.j\n",
       "  0.001+0.j   ]\n",
       " [0.   +0.j    0.   +0.j    0.   +0.j    0.   +0.j    0.   +0.j\n",
       "  0.   +0.j    0.995+0.j    0.   +0.j    0.   +0.j    0.   +0.j\n",
       "  0.   +0.j    0.   +0.j    0.   +0.j    0.   +0.j    0.   +0.j\n",
       "  0.   +0.j   ]\n",
       " [0.   +0.j    0.   +0.j    0.   +0.j    0.   +0.j    0.   +0.j\n",
       "  0.   +0.j    0.   +0.j    0.996-0.008j 0.   +0.j    0.   +0.j\n",
       "  0.   +0.j    0.   +0.j    0.   +0.j    0.   +0.j    0.   +0.j\n",
       "  0.   +0.j   ]\n",
       " [0.   +0.j    0.   +0.j    0.   +0.j    0.   +0.j    0.   +0.j\n",
       "  0.   +0.j    0.   +0.j    0.   +0.j    0.997-0.008j 0.   +0.j\n",
       "  0.   +0.j    0.   +0.j    0.   +0.j    0.001-0.j    0.   +0.j\n",
       "  0.   +0.j   ]\n",
       " [0.   +0.j    0.   +0.j    0.   +0.j    0.   +0.j    0.   +0.j\n",
       "  0.   +0.j    0.   +0.j    0.   +0.j    0.   +0.j    0.995+0.j\n",
       "  0.   +0.j    0.   +0.j    0.   +0.j    0.   +0.j    0.   +0.j\n",
       "  0.   +0.j   ]\n",
       " [0.   +0.j    0.   +0.j    0.   +0.j    0.   +0.j    0.   +0.j\n",
       "  0.   +0.j    0.   +0.j    0.   +0.j    0.   +0.j    0.   +0.j\n",
       "  0.999+0.j    0.   +0.j    0.   +0.j    0.   +0.j    0.   +0.j\n",
       "  0.001+0.j   ]\n",
       " [0.   +0.j    0.   +0.j    0.   +0.j    0.   +0.j    0.   +0.j\n",
       "  0.   +0.j    0.   +0.j    0.   +0.j    0.   +0.j    0.   +0.j\n",
       "  0.   +0.j    0.996-0.008j 0.   +0.j    0.   +0.j    0.   +0.j\n",
       "  0.   +0.j   ]\n",
       " [0.   +0.j    0.   +0.j    0.   +0.j    0.   +0.j    0.   +0.j\n",
       "  0.   +0.j    0.   +0.j    0.   +0.j    0.   +0.j    0.   +0.j\n",
       "  0.   +0.j    0.   +0.j    0.995+0.j    0.   +0.j    0.   +0.j\n",
       "  0.   +0.j   ]\n",
       " [0.   +0.j    0.   +0.j    0.   +0.j    0.   +0.j    0.   +0.j\n",
       "  0.   +0.j    0.   +0.j    0.   +0.j    0.   +0.j    0.   +0.j\n",
       "  0.   +0.j    0.   +0.j    0.   +0.j    0.996+0.008j 0.   +0.j\n",
       "  0.   +0.j   ]\n",
       " [0.   +0.j    0.   +0.j    0.   +0.j    0.   +0.j    0.   +0.j\n",
       "  0.   +0.j    0.   +0.j    0.   +0.j    0.   +0.j    0.   +0.j\n",
       "  0.   +0.j    0.   +0.j    0.   +0.j    0.   +0.j    0.996+0.008j\n",
       "  0.   +0.j   ]\n",
       " [0.   +0.j    0.   +0.j    0.   +0.j    0.   +0.j    0.   +0.j\n",
       "  0.   +0.j    0.   +0.j    0.   +0.j    0.   +0.j    0.   +0.j\n",
       "  0.   +0.j    0.   +0.j    0.   +0.j    0.   +0.j    0.   +0.j\n",
       "  0.998+0.j   ]]"
      ]
     },
     "execution_count": 591,
     "metadata": {},
     "output_type": "execute_result"
    }
   ],
   "source": [
    "Qobj(noisy_rzz_ad)"
   ]
  },
  {
   "cell_type": "markdown",
   "metadata": {},
   "source": [
    "## Define the basis of noisy operations"
   ]
  },
  {
   "cell_type": "code",
   "execution_count": 592,
   "metadata": {},
   "outputs": [
    {
     "name": "stdout",
     "output_type": "stream",
     "text": [
      "Sequeces of noisy operations to be used as a basis for PEC:\n",
      "0: ───Rz(-0.002π)───I───────\n",
      "\n",
      "1: ───I─────────────X^0.5───\n",
      "0: ───I─────────────X───\n",
      "\n",
      "1: ───Rz(-0.002π)───I───\n",
      "0: ───Rz(-0.002π)───X^0.5───\n",
      "\n",
      "1: ───I─────────────I───────\n",
      "0: ───X───I───\n",
      "\n",
      "1: ───I───X───\n",
      "0: ───X───I─────────────\n",
      "\n",
      "1: ───I───Rz(-0.002π)───\n",
      "0: ───Rz(-0.002π)───\n",
      "\n",
      "1: ───I─────────────\n",
      "0: ───I───Rz(-0.002π)───\n",
      "\n",
      "1: ───X───I─────────────\n",
      "0: ───X^0.5───Rz(-0.002π)───\n",
      "\n",
      "1: ───I───────I─────────────\n",
      "0: ───@─────────────────@───I───\n",
      "      │                 │\n",
      "1: ───X───Rz(-0.002π)───X───X───\n",
      "0: ───X^0.5───\n",
      "\n",
      "1: ───I───────\n",
      "0: ───@─────────────────@───@─────────────────@───\n",
      "      │                 │   │                 │\n",
      "1: ───X───Rz(-0.002π)───X───X───Rz(-0.002π)───X───\n",
      "0: ───Rz(-0.002π)───I─────────────\n",
      "\n",
      "1: ───I─────────────Rz(-0.002π)───\n",
      "0: ───I───────@─────────────────@───\n",
      "              │                 │\n",
      "1: ───X^0.5───X───Rz(-0.002π)───X───\n",
      "0: ───I───────I───\n",
      "\n",
      "1: ───X^0.5───X───\n",
      "0: ───I─────────────\n",
      "\n",
      "1: ───Rz(-0.002π)───\n",
      "0: ───I─────────────I───\n",
      "\n",
      "1: ───Rz(-0.002π)───X───\n",
      "0: ───Rz(-0.002π)───Rz(-0.002π)───\n",
      "\n",
      "1: ───I─────────────I─────────────\n",
      "0: ───Rz(-0.002π)───@─────────────────@───\n",
      "                    │                 │\n",
      "1: ───I─────────────X───Rz(-0.002π)───X───\n",
      "0: ───X───\n",
      "\n",
      "1: ───I───\n",
      "0: ───I───@─────────────────@───\n",
      "          │                 │\n",
      "1: ───X───X───Rz(-0.002π)───X───\n",
      "0: ───I─────────────I───────\n",
      "\n",
      "1: ───Rz(-0.002π)───X^0.5───\n",
      "0: ───I───────X^0.5───\n",
      "\n",
      "1: ───X^0.5───I───────\n",
      "0: ───Rz(-0.002π)───X───\n",
      "\n",
      "1: ───I─────────────I───\n",
      "0: ───X───X^0.5───\n",
      "\n",
      "1: ───I───I───────\n",
      "0: ───X^0.5───X───\n",
      "\n",
      "1: ───I───────I───\n",
      "0: ───X^0.5───X^0.5───\n",
      "\n",
      "1: ───I───────I───────\n",
      "0: ───I───────\n",
      "\n",
      "1: ───X^0.5───\n",
      "0: ───Rz(-0.002π)───I───\n",
      "\n",
      "1: ───I─────────────X───\n",
      "0: ───X^0.5───I───────\n",
      "\n",
      "1: ───I───────X^0.5───\n",
      "0: ───I───────X───\n",
      "\n",
      "1: ───X^0.5───I───\n",
      "0: ───X^0.5───I─────────────\n",
      "\n",
      "1: ───I───────Rz(-0.002π)───\n",
      "0: ───I───────Rz(-0.002π)───\n",
      "\n",
      "1: ───X^0.5───I─────────────\n",
      "0: ───@─────────────────@───Rz(-0.002π)───\n",
      "      │                 │\n",
      "1: ───X───Rz(-0.002π)───X───I─────────────\n",
      "0: ───I─────────────Rz(-0.002π)───\n",
      "\n",
      "1: ───Rz(-0.002π)───I─────────────\n",
      "0: ───I───I───────\n",
      "\n",
      "1: ───X───X^0.5───\n",
      "0: ───I─────────────@─────────────────@───\n",
      "                    │                 │\n",
      "1: ───Rz(-0.002π)───X───Rz(-0.002π)───X───\n",
      "0: ───I─────────────I─────────────\n",
      "\n",
      "1: ───Rz(-0.002π)───Rz(-0.002π)───\n",
      "0: ───X───X───\n",
      "\n",
      "1: ───I───I───\n",
      "0: ───@─────────────────@───X───\n",
      "      │                 │\n",
      "1: ───X───Rz(-0.002π)───X───I───\n",
      "0: ───@─────────────────@───X^0.5───\n",
      "      │                 │\n",
      "1: ───X───Rz(-0.002π)───X───I───────\n",
      "0: ───I───X───\n",
      "\n",
      "1: ───X───I───\n",
      "0: ───I───X^0.5───\n",
      "\n",
      "1: ───X───I───────\n",
      "0: ───@─────────────────@───I─────────────\n",
      "      │                 │\n",
      "1: ───X───Rz(-0.002π)───X───Rz(-0.002π)───\n",
      "0: ───X^0.5───@─────────────────@───\n",
      "              │                 │\n",
      "1: ───I───────X───Rz(-0.002π)───X───\n",
      "0: ───@─────────────────@───\n",
      "      │                 │\n",
      "1: ───X───Rz(-0.002π)───X───\n",
      "0: ───I───────I───────\n",
      "\n",
      "1: ───X^0.5───X^0.5───\n",
      "0: ───I─────────────X^0.5───\n",
      "\n",
      "1: ───Rz(-0.002π)───I───────\n",
      "0: ───I───────I─────────────\n",
      "\n",
      "1: ───X^0.5───Rz(-0.002π)───\n",
      "0: ───I───\n",
      "\n",
      "1: ───X───\n",
      "0: ───@─────────────────@───I───────\n",
      "      │                 │\n",
      "1: ───X───Rz(-0.002π)───X───X^0.5───\n",
      "0: ───I───I───\n",
      "\n",
      "1: ───X───X───\n",
      "0: ───X───Rz(-0.002π)───\n",
      "\n",
      "1: ───I───I─────────────\n",
      "0: ───X───I───────\n",
      "\n",
      "1: ───I───X^0.5───\n",
      "0: ───X^0.5───I───\n",
      "\n",
      "1: ───I───────X───\n",
      "0: ───I───I─────────────\n",
      "\n",
      "1: ───X───Rz(-0.002π)───\n",
      "0: ───X───@─────────────────@───\n",
      "          │                 │\n",
      "1: ───I───X───Rz(-0.002π)───X───\n"
     ]
    }
   ],
   "source": [
    "# Create noisy operations as Mitiq NoisyOperation objects for 1 qubit\n",
    "# mitiq_noisy_rx = NoisyOperation(circuitX, noisy_rx)\n",
    "# mitiq_noisy_rz = NoisyOperation(circuitZ, noisy_rz)\n",
    "\n",
    "# Combine into basis object, 1 qubit\n",
    "# base_noisy_basis = NoisyBasis(mitiq_noisy_rx, mitiq_noisy_rz)\n",
    "\n",
    "# Create noisy operations as Mitiq NoisyOperation objects for 2 qubits\n",
    "# mitiq_noisy_rrxi = NoisyOperation(circuitrXI, noisy_rxi_ad)\n",
    "# mitiq_noisy_rirx = NoisyOperation(circuitIrX, noisy_rix_ad)\n",
    "# mitiq_noisy_rrzi = NoisyOperation(circuitrZI, noisy_rzi_ad)\n",
    "mitiq_noisy_rrzi = NoisyOperation(circuitrZI, rrziSupOp)\n",
    "\n",
    "# mitiq_noisy_rirz = NoisyOperation(circuitIrZ, noisy_riz_ad)\n",
    "mitiq_noisy_rirz = NoisyOperation(circuitIrZ, rirzSupOp)\n",
    "\n",
    "mitiq_noisy_rxx = NoisyOperation(circuitXX, noisy_rxx_ad)\n",
    "mitiq_noisy_ryy = NoisyOperation(circuitYY, noisy_ryy_ad)\n",
    "mitiq_noisy_rzz = NoisyOperation(circuitZZ, noisy_rzz_ad)\n",
    "\n",
    "mitiq_noisy_xi = NoisyOperation(circuitXI, noisy_xi_ad)\n",
    "mitiq_noisy_ix = NoisyOperation(circuitIX, noisy_ix_ad)\n",
    "mitiq_noisy_sxi = NoisyOperation(circuitsXI, noisy_sxi_ad)\n",
    "mitiq_noisy_isx = NoisyOperation(circuitIsX, noisy_isx_ad)\n",
    "\n",
    "# Combine into basis object, 2 qubits: mitiq_noisy_rrxi, mitiq_noisy_rirx,\n",
    "base_noisy_basis = NoisyBasis(mitiq_noisy_rrzi, mitiq_noisy_rirz, mitiq_noisy_xi, \n",
    "                              mitiq_noisy_ix, mitiq_noisy_sxi, mitiq_noisy_isx,\n",
    "                              mitiq_noisy_rzz)\n",
    "\n",
    "# Extend basis to squences of noisy gates\n",
    "noisy_basis = NoisyBasis(\n",
    "    *base_noisy_basis.get_sequences(1),\n",
    "    *base_noisy_basis.get_sequences(2),\n",
    "#     *base_noisy_basis.get_sequences(3),\n",
    "#     *base_noisy_basis.get_sequences(4),\n",
    "#     *base_noisy_basis.get_sequences(5),\n",
    "#     *base_noisy_basis.get_sequences(6),\n",
    "#     *base_noisy_basis.get_sequences(7),\n",
    ")\n",
    "\n",
    "print(\"Sequeces of noisy operations to be used as a basis for PEC:\")\n",
    "for elem in noisy_basis.elements:\n",
    "    print(elem)"
   ]
  },
  {
   "cell_type": "code",
   "execution_count": 522,
   "metadata": {},
   "outputs": [
    {
     "data": {
      "text/html": [
       "<pre style=\"overflow: auto; white-space: pre;\">0: ───@────────────────@───\n",
       "      │                │\n",
       "1: ───X───Rz(-0.05π)───X───</pre>"
      ],
      "text/plain": [
       "0: ───@────────────────@───\n",
       "      │                │\n",
       "1: ───X───Rz(-0.05π)───X───"
      ]
     },
     "execution_count": 522,
     "metadata": {},
     "output_type": "execute_result"
    }
   ],
   "source": [
    "mitiq_noisy_rzz.circuit('cirq')"
   ]
  },
  {
   "cell_type": "markdown",
   "metadata": {},
   "source": [
    "## Compute optimal representation"
   ]
  },
  {
   "cell_type": "code",
   "execution_count": 267,
   "metadata": {
    "collapsed": true
   },
   "outputs": [
    {
     "data": {
      "text/plain": [
       "array([[1.   +0.j   , 0.   +0.j   , 0.   +0.j   , 0.   +0.j   ,\n",
       "        0.   +0.j   , 0.   +0.j   , 0.   +0.j   , 0.   +0.j   ,\n",
       "        0.   +0.j   , 0.   +0.j   , 0.   +0.j   , 0.   +0.j   ,\n",
       "        0.   +0.j   , 0.   +0.j   , 0.   +0.j   , 0.   +0.j   ],\n",
       "       [0.   +0.j   , 0.707+0.707j, 0.   +0.j   , 0.   +0.j   ,\n",
       "        0.   +0.j   , 0.   +0.j   , 0.   +0.j   , 0.   +0.j   ,\n",
       "        0.   +0.j   , 0.   +0.j   , 0.   +0.j   , 0.   +0.j   ,\n",
       "        0.   +0.j   , 0.   +0.j   , 0.   +0.j   , 0.   +0.j   ],\n",
       "       [0.   +0.j   , 0.   +0.j   , 0.707+0.707j, 0.   +0.j   ,\n",
       "        0.   +0.j   , 0.   +0.j   , 0.   +0.j   , 0.   +0.j   ,\n",
       "        0.   +0.j   , 0.   +0.j   , 0.   +0.j   , 0.   +0.j   ,\n",
       "        0.   +0.j   , 0.   +0.j   , 0.   +0.j   , 0.   +0.j   ],\n",
       "       [0.   +0.j   , 0.   +0.j   , 0.   +0.j   , 1.   +0.j   ,\n",
       "        0.   +0.j   , 0.   +0.j   , 0.   +0.j   , 0.   +0.j   ,\n",
       "        0.   +0.j   , 0.   +0.j   , 0.   +0.j   , 0.   +0.j   ,\n",
       "        0.   +0.j   , 0.   +0.j   , 0.   +0.j   , 0.   +0.j   ],\n",
       "       [0.   +0.j   , 0.   +0.j   , 0.   +0.j   , 0.   +0.j   ,\n",
       "        0.707-0.707j, 0.   +0.j   , 0.   +0.j   , 0.   +0.j   ,\n",
       "        0.   +0.j   , 0.   +0.j   , 0.   +0.j   , 0.   +0.j   ,\n",
       "        0.   +0.j   , 0.   +0.j   , 0.   +0.j   , 0.   +0.j   ],\n",
       "       [0.   +0.j   , 0.   +0.j   , 0.   +0.j   , 0.   +0.j   ,\n",
       "        0.   +0.j   , 1.   +0.j   , 0.   +0.j   , 0.   +0.j   ,\n",
       "        0.   +0.j   , 0.   +0.j   , 0.   +0.j   , 0.   +0.j   ,\n",
       "        0.   +0.j   , 0.   +0.j   , 0.   +0.j   , 0.   +0.j   ],\n",
       "       [0.   +0.j   , 0.   +0.j   , 0.   +0.j   , 0.   +0.j   ,\n",
       "        0.   +0.j   , 0.   +0.j   , 1.   +0.j   , 0.   +0.j   ,\n",
       "        0.   +0.j   , 0.   +0.j   , 0.   +0.j   , 0.   +0.j   ,\n",
       "        0.   +0.j   , 0.   +0.j   , 0.   +0.j   , 0.   +0.j   ],\n",
       "       [0.   +0.j   , 0.   +0.j   , 0.   +0.j   , 0.   +0.j   ,\n",
       "        0.   +0.j   , 0.   +0.j   , 0.   +0.j   , 0.707-0.707j,\n",
       "        0.   +0.j   , 0.   +0.j   , 0.   +0.j   , 0.   +0.j   ,\n",
       "        0.   +0.j   , 0.   +0.j   , 0.   +0.j   , 0.   +0.j   ],\n",
       "       [0.   +0.j   , 0.   +0.j   , 0.   +0.j   , 0.   +0.j   ,\n",
       "        0.   +0.j   , 0.   +0.j   , 0.   +0.j   , 0.   +0.j   ,\n",
       "        0.707-0.707j, 0.   +0.j   , 0.   +0.j   , 0.   +0.j   ,\n",
       "        0.   +0.j   , 0.   +0.j   , 0.   +0.j   , 0.   +0.j   ],\n",
       "       [0.   +0.j   , 0.   +0.j   , 0.   +0.j   , 0.   +0.j   ,\n",
       "        0.   +0.j   , 0.   +0.j   , 0.   +0.j   , 0.   +0.j   ,\n",
       "        0.   +0.j   , 1.   +0.j   , 0.   +0.j   , 0.   +0.j   ,\n",
       "        0.   +0.j   , 0.   +0.j   , 0.   +0.j   , 0.   +0.j   ],\n",
       "       [0.   +0.j   , 0.   +0.j   , 0.   +0.j   , 0.   +0.j   ,\n",
       "        0.   +0.j   , 0.   +0.j   , 0.   +0.j   , 0.   +0.j   ,\n",
       "        0.   +0.j   , 0.   +0.j   , 1.   +0.j   , 0.   +0.j   ,\n",
       "        0.   +0.j   , 0.   +0.j   , 0.   +0.j   , 0.   +0.j   ],\n",
       "       [0.   +0.j   , 0.   +0.j   , 0.   +0.j   , 0.   +0.j   ,\n",
       "        0.   +0.j   , 0.   +0.j   , 0.   +0.j   , 0.   +0.j   ,\n",
       "        0.   +0.j   , 0.   +0.j   , 0.   +0.j   , 0.707-0.707j,\n",
       "        0.   +0.j   , 0.   +0.j   , 0.   +0.j   , 0.   +0.j   ],\n",
       "       [0.   +0.j   , 0.   +0.j   , 0.   +0.j   , 0.   +0.j   ,\n",
       "        0.   +0.j   , 0.   +0.j   , 0.   +0.j   , 0.   +0.j   ,\n",
       "        0.   +0.j   , 0.   +0.j   , 0.   +0.j   , 0.   +0.j   ,\n",
       "        1.   +0.j   , 0.   +0.j   , 0.   +0.j   , 0.   +0.j   ],\n",
       "       [0.   +0.j   , 0.   +0.j   , 0.   +0.j   , 0.   +0.j   ,\n",
       "        0.   +0.j   , 0.   +0.j   , 0.   +0.j   , 0.   +0.j   ,\n",
       "        0.   +0.j   , 0.   +0.j   , 0.   +0.j   , 0.   +0.j   ,\n",
       "        0.   +0.j   , 0.707+0.707j, 0.   +0.j   , 0.   +0.j   ],\n",
       "       [0.   +0.j   , 0.   +0.j   , 0.   +0.j   , 0.   +0.j   ,\n",
       "        0.   +0.j   , 0.   +0.j   , 0.   +0.j   , 0.   +0.j   ,\n",
       "        0.   +0.j   , 0.   +0.j   , 0.   +0.j   , 0.   +0.j   ,\n",
       "        0.   +0.j   , 0.   +0.j   , 0.707+0.707j, 0.   +0.j   ],\n",
       "       [0.   +0.j   , 0.   +0.j   , 0.   +0.j   , 0.   +0.j   ,\n",
       "        0.   +0.j   , 0.   +0.j   , 0.   +0.j   , 0.   +0.j   ,\n",
       "        0.   +0.j   , 0.   +0.j   , 0.   +0.j   , 0.   +0.j   ,\n",
       "        0.   +0.j   , 0.   +0.j   , 0.   +0.j   , 1.   +0.j   ]])"
      ]
     },
     "execution_count": 267,
     "metadata": {},
     "output_type": "execute_result"
    }
   ],
   "source": [
    "superop_rzz_cirq"
   ]
  },
  {
   "cell_type": "code",
   "execution_count": 599,
   "metadata": {
    "scrolled": true
   },
   "outputs": [
    {
     "name": "stdout",
     "output_type": "stream",
     "text": [
      "0: ───@─────────────────@───\n",
      "      │                 │\n",
      "1: ───X───Rz(-0.002π)───X─── = \n",
      "\n",
      "0.125\n",
      "0: ───Rz(-0.002π)───\n",
      "\n",
      "1: ───I─────────────\n",
      "\n",
      "-0.122\n",
      "0: ───@─────────────────@───I───\n",
      "      │                 │\n",
      "1: ───X───Rz(-0.002π)───X───X───\n",
      "\n",
      "+0.002\n",
      "0: ───@─────────────────@───@─────────────────@───\n",
      "      │                 │   │                 │\n",
      "1: ───X───Rz(-0.002π)───X───X───Rz(-0.002π)───X───\n",
      "\n",
      "+0.001\n",
      "0: ───Rz(-0.002π)───I─────────────\n",
      "\n",
      "1: ───I─────────────Rz(-0.002π)───\n",
      "\n",
      "+0.125\n",
      "0: ───I─────────────\n",
      "\n",
      "1: ───Rz(-0.002π)───\n",
      "\n",
      "+0.122\n",
      "0: ───I───@─────────────────@───\n",
      "          │                 │\n",
      "1: ───X───X───Rz(-0.002π)───X───\n",
      "\n",
      "+0.001\n",
      "0: ───I─────────────Rz(-0.002π)───\n",
      "\n",
      "1: ───Rz(-0.002π)───I─────────────\n",
      "\n",
      "-0.125\n",
      "0: ───X───X───\n",
      "\n",
      "1: ───I───I───\n",
      "\n",
      "-0.122\n",
      "0: ───@─────────────────@───X───\n",
      "      │                 │\n",
      "1: ───X───Rz(-0.002π)───X───I───\n",
      "\n",
      "+0.992\n",
      "0: ───@─────────────────@───\n",
      "      │                 │\n",
      "1: ───X───Rz(-0.002π)───X───\n",
      "\n",
      "-0.125\n",
      "0: ───I───I───\n",
      "\n",
      "1: ───X───X───\n",
      "\n",
      "+0.122\n",
      "0: ───X───@─────────────────@───\n",
      "          │                 │\n",
      "1: ───I───X───Rz(-0.002π)───X───\n",
      "Overhead:  1.9846509115766606\n"
     ]
    }
   ],
   "source": [
    "# Get optimal representation in terms of noisy gates\n",
    "# optimal_rep = find_optimal_representation(circuitZZ, noisy_basis, tol=.001) #circuitZZ\n",
    "optimal_rep = find_optimal_representation_super(circuitZZ, noisy_rzz, noisy_basis, tol=.002)\n",
    "\n",
    "print(optimal_rep)\n",
    "print(\"Overhead: \", optimal_rep.norm) # Hopefully close to 1"
   ]
  },
  {
   "cell_type": "code",
   "execution_count": 597,
   "metadata": {},
   "outputs": [
    {
     "data": {
      "text/html": [
       "<pre style=\"overflow: auto; white-space: pre;\">0: ───I─────────────X───\n",
       "\n",
       "1: ───Rz(-0.002π)───I───</pre>"
      ],
      "text/plain": [
       "0: ───I─────────────X───\n",
       "\n",
       "1: ───Rz(-0.002π)───I───"
      ]
     },
     "execution_count": 597,
     "metadata": {},
     "output_type": "execute_result"
    }
   ],
   "source": [
    "optimal_rep.noisy_operations[1].circuit()"
   ]
  },
  {
   "cell_type": "code",
   "execution_count": null,
   "metadata": {},
   "outputs": [],
   "source": [
    "self._ideal, self._native_type = convert_to_mitiq(ideal)"
   ]
  },
  {
   "cell_type": "code",
   "execution_count": 414,
   "metadata": {
    "scrolled": false
   },
   "outputs": [
    {
     "data": {
      "text/html": [
       "<pre style=\"word-wrap: normal;white-space: pre;background: #fff0;line-height: 1.1;font-family: &quot;Courier New&quot;,Courier,monospace\">     ┌───┐ \n",
       "q_0: ┤ I ├─\n",
       "     ├───┴┐\n",
       "q_1: ┤ √X ├\n",
       "     └────┘</pre>"
      ],
      "text/plain": [
       "     ┌───┐ \n",
       "q_0: ┤ I ├─\n",
       "     ├───┴┐\n",
       "q_1: ┤ √X ├\n",
       "     └────┘"
      ]
     },
     "execution_count": 414,
     "metadata": {},
     "output_type": "execute_result"
    }
   ],
   "source": [
    "optimal_rep.noisy_operations[0].circuit('qiskit').draw()"
   ]
  },
  {
   "cell_type": "code",
   "execution_count": 416,
   "metadata": {},
   "outputs": [
    {
     "data": {
      "text/plain": [
       "90"
      ]
     },
     "execution_count": 416,
     "metadata": {},
     "output_type": "execute_result"
    }
   ],
   "source": [
    "len(optimal_rep.noisy_operations)"
   ]
  },
  {
   "cell_type": "code",
   "execution_count": 492,
   "metadata": {},
   "outputs": [
    {
     "data": {
      "text/plain": [
       "2.06608168257626"
      ]
     },
     "execution_count": 492,
     "metadata": {},
     "output_type": "execute_result"
    }
   ],
   "source": [
    "sum([abs(m) for m in optimal_rep.coeffs])"
   ]
  },
  {
   "cell_type": "code",
   "execution_count": 417,
   "metadata": {},
   "outputs": [
    {
     "name": "stdout",
     "output_type": "stream",
     "text": [
      "Approximated superoperator\n",
      "[[ 0.999+0.j     0.001+0.001j  0.001+0.001j -0.   +0.j     0.001-0.001j\n",
      "   0.003+0.j     0.   +0.j     0.   +0.j     0.001-0.001j  0.   +0.j\n",
      "   0.003+0.j     0.   +0.j    -0.   +0.j     0.   -0.j     0.   -0.j\n",
      "  -0.   +0.j   ]\n",
      " [ 0.001+0.001j  0.921+0.381j -0.   +0.j     0.001+0.001j -0.   +0.001j\n",
      "  -0.001-0.001j  0.   +0.j     0.   +0.j     0.   +0.j    -0.001-0.001j\n",
      "   0.   +0.j     0.002+0.001j  0.   -0.j    -0.   +0.j    -0.   +0.j\n",
      "  -0.   -0.j   ]\n",
      " [ 0.001+0.001j -0.   +0.j     0.921+0.381j  0.001+0.001j  0.   +0.j\n",
      "   0.   +0.j    -0.001-0.001j  0.002+0.001j -0.   +0.001j  0.   +0.j\n",
      "  -0.001-0.001j  0.   +0.j     0.   -0.j    -0.   +0.j    -0.   +0.j\n",
      "  -0.   -0.j   ]\n",
      " [-0.   +0.j     0.001+0.001j  0.001+0.001j  0.996-0.001j  0.   +0.j\n",
      "   0.   +0.j     0.001+0.j     0.001-0.001j  0.   +0.j     0.001+0.j\n",
      "   0.   +0.j     0.001-0.001j -0.   +0.j     0.   -0.j     0.   -0.j\n",
      "  -0.   +0.j   ]\n",
      " [ 0.001-0.001j -0.   -0.001j  0.   +0.j     0.   +0.j     0.921-0.381j\n",
      "  -0.001+0.001j -0.001+0.001j -0.   +0.j    -0.   +0.j     0.   -0.j\n",
      "   0.   -0.j    -0.   -0.j     0.001-0.001j  0.   +0.j     0.002-0.001j\n",
      "  -0.   +0.j   ]\n",
      " [ 0.001+0.j    -0.001-0.001j  0.   +0.j     0.   +0.j    -0.001+0.001j\n",
      "   0.997+0.j    -0.   +0.j    -0.001+0.001j  0.   -0.j    -0.   +0.j\n",
      "  -0.   +0.j    -0.   -0.j     0.   +0.j    -0.001-0.001j -0.   +0.j\n",
      "   0.003+0.j   ]\n",
      " [ 0.   +0.j     0.   +0.j    -0.001-0.001j  0.001+0.j    -0.001+0.001j\n",
      "  -0.   +0.j     0.998-0.j    -0.001+0.001j  0.   -0.j    -0.   +0.j\n",
      "  -0.   +0.j     0.   -0.j     0.001-0.j     0.   +0.j    -0.001-0.001j\n",
      "   0.   +0.j   ]\n",
      " [ 0.   +0.j     0.   +0.j    -0.   -0.001j  0.001-0.001j -0.   +0.j\n",
      "  -0.001+0.001j -0.001+0.001j  0.921-0.381j -0.   +0.j     0.   -0.j\n",
      "   0.   -0.j    -0.   +0.j     0.   +0.j    -0.   -0.001j  0.   +0.j\n",
      "   0.001-0.001j]\n",
      " [ 0.001-0.001j  0.   +0.j    -0.   -0.001j  0.   +0.j    -0.   +0.j\n",
      "   0.   -0.j     0.   -0.j    -0.   -0.j     0.921-0.381j -0.001+0.001j\n",
      "  -0.001+0.001j -0.   +0.j     0.001-0.001j  0.002-0.001j  0.   +0.j\n",
      "  -0.   +0.j   ]\n",
      " [ 0.   +0.j    -0.001-0.001j  0.   +0.j     0.001+0.j     0.   -0.j\n",
      "  -0.   +0.j    -0.   +0.j     0.   -0.j    -0.001+0.001j  0.998+0.j\n",
      "  -0.   +0.j    -0.001+0.001j  0.001-0.j    -0.001-0.001j  0.   +0.j\n",
      "   0.   +0.j   ]\n",
      " [ 0.001+0.j     0.   +0.j    -0.001-0.001j  0.   +0.j     0.   -0.j\n",
      "  -0.   +0.j    -0.   +0.j    -0.   -0.j    -0.001+0.001j -0.   +0.j\n",
      "   0.997+0.j    -0.001+0.001j  0.   +0.j    -0.   +0.j    -0.001-0.001j\n",
      "   0.003+0.j   ]\n",
      " [ 0.   +0.j    -0.   -0.001j  0.   +0.j     0.001-0.001j -0.   +0.j\n",
      "   0.   -0.j     0.   -0.j    -0.   +0.j    -0.   +0.j    -0.001+0.001j\n",
      "  -0.001+0.001j  0.921-0.381j  0.   +0.j     0.   +0.j    -0.   -0.001j\n",
      "   0.001-0.001j]\n",
      " [-0.   +0.j     0.   -0.j     0.   -0.j    -0.   +0.j     0.001-0.001j\n",
      "   0.   +0.j     0.001-0.j     0.   +0.j     0.001-0.001j  0.001-0.j\n",
      "   0.   +0.j     0.   +0.j     0.996+0.001j  0.001+0.001j  0.001+0.001j\n",
      "  -0.   +0.j   ]\n",
      " [ 0.   -0.j    -0.   +0.j    -0.   +0.j     0.   -0.j     0.   +0.j\n",
      "  -0.001-0.001j  0.   +0.j    -0.   +0.001j -0.   +0.001j -0.001-0.001j\n",
      "   0.   +0.j     0.   +0.j     0.001+0.001j  0.921+0.381j -0.   +0.j\n",
      "   0.001+0.001j]\n",
      " [ 0.   -0.j    -0.   +0.j    -0.   +0.j     0.   -0.j    -0.   +0.001j\n",
      "   0.   +0.j    -0.001-0.001j  0.   +0.j     0.   +0.j     0.   +0.j\n",
      "  -0.001-0.001j -0.   +0.001j  0.001+0.001j -0.   +0.j     0.921+0.381j\n",
      "   0.001+0.001j]\n",
      " [-0.   +0.j     0.   -0.j     0.   -0.j    -0.   +0.j     0.   +0.j\n",
      "   0.001+0.j     0.   +0.j     0.001-0.001j  0.   +0.j     0.   +0.j\n",
      "   0.001+0.j     0.001-0.001j -0.   +0.j     0.001+0.001j  0.001+0.001j\n",
      "   0.995+0.j   ]]\n",
      "------------------------------\n",
      "Ideal superoperator\n",
      "[[1.   +0.j    0.   +0.j    0.   +0.j    0.   +0.j    0.   +0.j\n",
      "  0.003+0.j    0.   +0.j    0.   +0.j    0.   +0.j    0.   +0.j\n",
      "  0.003+0.j    0.   +0.j    0.   +0.j    0.   +0.j    0.   +0.j\n",
      "  0.   +0.j   ]\n",
      " [0.   +0.j    0.922+0.382j 0.   +0.j    0.   +0.j    0.   +0.j\n",
      "  0.   +0.j    0.   +0.j    0.   +0.j    0.   +0.j    0.   +0.j\n",
      "  0.   +0.j    0.003+0.001j 0.   +0.j    0.   +0.j    0.   +0.j\n",
      "  0.   +0.j   ]\n",
      " [0.   +0.j    0.   +0.j    0.922+0.382j 0.   +0.j    0.   +0.j\n",
      "  0.   +0.j    0.   +0.j    0.003+0.001j 0.   +0.j    0.   +0.j\n",
      "  0.   +0.j    0.   +0.j    0.   +0.j    0.   +0.j    0.   +0.j\n",
      "  0.   +0.j   ]\n",
      " [0.   +0.j    0.   +0.j    0.   +0.j    0.997+0.j    0.   +0.j\n",
      "  0.   +0.j    0.   +0.j    0.   +0.j    0.   +0.j    0.   +0.j\n",
      "  0.   +0.j    0.   +0.j    0.   +0.j    0.   +0.j    0.   +0.j\n",
      "  0.   +0.j   ]\n",
      " [0.   +0.j    0.   +0.j    0.   +0.j    0.   +0.j    0.922-0.382j\n",
      "  0.   +0.j    0.   +0.j    0.   +0.j    0.   +0.j    0.   +0.j\n",
      "  0.   +0.j    0.   +0.j    0.   +0.j    0.   +0.j    0.003-0.001j\n",
      "  0.   +0.j   ]\n",
      " [0.   +0.j    0.   +0.j    0.   +0.j    0.   +0.j    0.   +0.j\n",
      "  0.997+0.j    0.   +0.j    0.   +0.j    0.   +0.j    0.   +0.j\n",
      "  0.   +0.j    0.   +0.j    0.   +0.j    0.   +0.j    0.   +0.j\n",
      "  0.003+0.j   ]\n",
      " [0.   +0.j    0.   +0.j    0.   +0.j    0.   +0.j    0.   +0.j\n",
      "  0.   +0.j    0.997+0.j    0.   +0.j    0.   +0.j    0.   +0.j\n",
      "  0.   +0.j    0.   +0.j    0.   +0.j    0.   +0.j    0.   +0.j\n",
      "  0.   +0.j   ]\n",
      " [0.   +0.j    0.   +0.j    0.   +0.j    0.   +0.j    0.   +0.j\n",
      "  0.   +0.j    0.   +0.j    0.92 -0.381j 0.   +0.j    0.   +0.j\n",
      "  0.   +0.j    0.   +0.j    0.   +0.j    0.   +0.j    0.   +0.j\n",
      "  0.   +0.j   ]\n",
      " [0.   +0.j    0.   +0.j    0.   +0.j    0.   +0.j    0.   +0.j\n",
      "  0.   +0.j    0.   +0.j    0.   +0.j    0.922-0.382j 0.   +0.j\n",
      "  0.   +0.j    0.   +0.j    0.   +0.j    0.003-0.001j 0.   +0.j\n",
      "  0.   +0.j   ]\n",
      " [0.   +0.j    0.   +0.j    0.   +0.j    0.   +0.j    0.   +0.j\n",
      "  0.   +0.j    0.   +0.j    0.   +0.j    0.   +0.j    0.997+0.j\n",
      "  0.   +0.j    0.   +0.j    0.   +0.j    0.   +0.j    0.   +0.j\n",
      "  0.   +0.j   ]\n",
      " [0.   +0.j    0.   +0.j    0.   +0.j    0.   +0.j    0.   +0.j\n",
      "  0.   +0.j    0.   +0.j    0.   +0.j    0.   +0.j    0.   +0.j\n",
      "  0.997+0.j    0.   +0.j    0.   +0.j    0.   +0.j    0.   +0.j\n",
      "  0.003+0.j   ]\n",
      " [0.   +0.j    0.   +0.j    0.   +0.j    0.   +0.j    0.   +0.j\n",
      "  0.   +0.j    0.   +0.j    0.   +0.j    0.   +0.j    0.   +0.j\n",
      "  0.   +0.j    0.92 -0.381j 0.   +0.j    0.   +0.j    0.   +0.j\n",
      "  0.   +0.j   ]\n",
      " [0.   +0.j    0.   +0.j    0.   +0.j    0.   +0.j    0.   +0.j\n",
      "  0.   +0.j    0.   +0.j    0.   +0.j    0.   +0.j    0.   +0.j\n",
      "  0.   +0.j    0.   +0.j    0.997+0.j    0.   +0.j    0.   +0.j\n",
      "  0.   +0.j   ]\n",
      " [0.   +0.j    0.   +0.j    0.   +0.j    0.   +0.j    0.   +0.j\n",
      "  0.   +0.j    0.   +0.j    0.   +0.j    0.   +0.j    0.   +0.j\n",
      "  0.   +0.j    0.   +0.j    0.   +0.j    0.92 +0.381j 0.   +0.j\n",
      "  0.   +0.j   ]\n",
      " [0.   +0.j    0.   +0.j    0.   +0.j    0.   +0.j    0.   +0.j\n",
      "  0.   +0.j    0.   +0.j    0.   +0.j    0.   +0.j    0.   +0.j\n",
      "  0.   +0.j    0.   +0.j    0.   +0.j    0.   +0.j    0.92 +0.381j\n",
      "  0.   +0.j   ]\n",
      " [0.   +0.j    0.   +0.j    0.   +0.j    0.   +0.j    0.   +0.j\n",
      "  0.   +0.j    0.   +0.j    0.   +0.j    0.   +0.j    0.   +0.j\n",
      "  0.   +0.j    0.   +0.j    0.   +0.j    0.   +0.j    0.   +0.j\n",
      "  0.994+0.j   ]]\n"
     ]
    }
   ],
   "source": [
    "# Compute PEC linear combination\n",
    "matrices = [m.channel_matrix for m in optimal_rep.noisy_operations]\n",
    "mat = sum(m*coeff for (m,coeff) in zip(matrices, optimal_rep.coeffs))\n",
    "print(\"Approximated superoperator\")\n",
    "print(mat)\n",
    "print('------------------------------')\n",
    "print(\"Ideal superoperator\")\n",
    "print(noisy_rzz)"
   ]
  },
  {
   "cell_type": "code",
   "execution_count": 418,
   "metadata": {},
   "outputs": [
    {
     "name": "stdout",
     "output_type": "stream",
     "text": [
      "(0.001000003166350738+0j)\n"
     ]
    }
   ],
   "source": [
    "print(np.max(mat - noisy_rzz))\n",
    "# print(np.max(superop_rzz_cirq - noisy_rzz))"
   ]
  },
  {
   "cell_type": "markdown",
   "metadata": {},
   "source": [
    "## Define noisy executor"
   ]
  },
  {
   "cell_type": "code",
   "execution_count": 373,
   "metadata": {},
   "outputs": [],
   "source": [
    "def ideal_to_noisy_circuit(ideal_circuit):\n",
    "    noisy_rx = cirq.KrausChannel(cirq.superoperator_to_kraus(superop_rx)).on(cirq.LineQubit(0))\n",
    "    noisy_rz = cirq.KrausChannel(cirq.superoperator_to_kraus(superop_rz)).on(cirq.LineQubit(0))\n",
    "\n",
    "    noisy_circuit = cirq.Circuit()\n",
    "    for op in ideal_circuit.all_operations():\n",
    "        if op.gate == cirq.rx(np.pi / 2):\n",
    "            noisy_circuit.append(noisy_rx)\n",
    "        elif op.gate == cirq.rz(np.pi / 2):\n",
    "            noisy_circuit.append(noisy_rz)\n",
    "        else:\n",
    "            print(\"Error:\", op)\n",
    "\n",
    "    return noisy_circuit"
   ]
  },
  {
   "cell_type": "code",
   "execution_count": 194,
   "metadata": {},
   "outputs": [],
   "source": [
    "import pygsti\n",
    "\n",
    "def cirq_to_pygsti(ideal_circuit: cirq.Circuit):\n",
    "    pygsti_ops = []\n",
    "    for op in ideal_circuit.all_operations(): \n",
    "        if op.gate == cirq.rx(np.pi / 2):\n",
    "            pygsti_ops.append(('Gxpi2',0))\n",
    "        elif op.gate == cirq.rz(np.pi / 2):\n",
    "            pygsti_ops.append(('Gzpi2',0))\n",
    "        else:\n",
    "            print(\"Error: impossible to simulate operation\", op)\n",
    "\n",
    "    return pygsti.circuits.Circuit(pygsti_ops, line_labels=[0])"
   ]
  },
  {
   "cell_type": "code",
   "execution_count": 195,
   "metadata": {},
   "outputs": [],
   "source": [
    "def cirq_executor(circuit):\n",
    "    \"\"\"Returns the expectation value of the observable A = |1><1|\"\"\"\n",
    "    noisy_circuit = ideal_to_noisy_circuit(circuit)\n",
    "    rho = cirq.DensityMatrixSimulator().simulate(noisy_circuit).final_density_matrix\n",
    "    return rho[1, 1].real\n",
    "\n",
    "def pygsti_executor(circuit):\n",
    "    \"\"\"Returns the expectation value of the observable A = |1><1|\"\"\"\n",
    "    noisy_circuit = cirq_to_pygsti(circuit)\n",
    "    probs = model.probabilities(noisy_circuit)\n",
    "    return probs[\"1\"]"
   ]
  },
  {
   "cell_type": "markdown",
   "metadata": {},
   "source": [
    "## Define circuit to mitigate"
   ]
  },
  {
   "cell_type": "code",
   "execution_count": 35,
   "metadata": {},
   "outputs": [],
   "source": [
    "bit_flip_circuit = cirq_rx + cirq_rx"
   ]
  },
  {
   "cell_type": "markdown",
   "metadata": {},
   "source": [
    "## Execute without error mitigation"
   ]
  },
  {
   "cell_type": "code",
   "execution_count": 46,
   "metadata": {},
   "outputs": [
    {
     "data": {
      "text/plain": [
       "0.8278870446802166"
      ]
     },
     "execution_count": 46,
     "metadata": {},
     "output_type": "execute_result"
    }
   ],
   "source": [
    "# cirq_executor(bit_flip_circuit)\n",
    "pygsti_executor(bit_flip_circuit)"
   ]
  },
  {
   "cell_type": "markdown",
   "metadata": {},
   "source": [
    "## Apply PEC"
   ]
  },
  {
   "cell_type": "code",
   "execution_count": 57,
   "metadata": {},
   "outputs": [],
   "source": [
    "# execute_with_pec(bit_flip_circuit, cirq_executor, representations=(optimal_rep, ), random_state=0, num_samples=5000)"
   ]
  },
  {
   "cell_type": "code",
   "execution_count": 48,
   "metadata": {},
   "outputs": [
    {
     "data": {
      "text/plain": [
       "4.843116547296679"
      ]
     },
     "execution_count": 48,
     "metadata": {},
     "output_type": "execute_result"
    }
   ],
   "source": [
    "execute_with_pec(bit_flip_circuit, pygsti_executor, representations=(optimal_rep, ), random_state=0, num_samples=5000)"
   ]
  },
  {
   "cell_type": "code",
   "execution_count": null,
   "metadata": {},
   "outputs": [],
   "source": []
  },
  {
   "cell_type": "code",
   "execution_count": null,
   "metadata": {},
   "outputs": [],
   "source": []
  },
  {
   "cell_type": "code",
   "execution_count": null,
   "metadata": {},
   "outputs": [],
   "source": []
  },
  {
   "cell_type": "code",
   "execution_count": 495,
   "metadata": {},
   "outputs": [],
   "source": [
    "# Modification to the Mitiq function:\n",
    "\n",
    "def find_optimal_representation_super(\n",
    "    ideal_operation: QPROGRAM,\n",
    "    noisy_super_operator: npt.NDArray[np.complex64],\n",
    "    noisy_basis: NoisyBasis,\n",
    "    tol: float = 1.0e-8,\n",
    "    initial_guess: Optional[npt.NDArray[np.float64]] = None,\n",
    ") -> OperationRepresentation:\n",
    "    r\"\"\"Returns the ``OperationRepresentaiton`` of the input ideal operation\n",
    "    which minimizes the one-norm of the associated quasi-probability\n",
    "    distribution.\n",
    "\n",
    "    More precicely, it solve the following optimization problem:\n",
    "\n",
    "    .. math::\n",
    "        \\min_{{\\eta_\\alpha}} = \\sum_\\alpha |\\eta_\\alpha|,\n",
    "        \\text{ such that }\n",
    "        \\mathcal G = \\sum_\\alpha \\eta_\\alpha \\mathcal O_\\alpha,\n",
    "\n",
    "    where :math:`\\{\\mathcal O_j\\}` is the input basis of noisy operations.\n",
    "\n",
    "    Args:\n",
    "        ideal_operation: The circuit element to approximate, as a QPROGRAM.\n",
    "        noisy_super_operator: The noisy super operator to approximate; i.e.,\n",
    "            the (A) circuit to approximate in terms of (B) circuits, and input\n",
    "            as a npt.NDArray[np.complex64]\n",
    "        noisy_basis: The ``NoisyBasis`` in which the ``ideal_operation``\n",
    "            should be represented. It must contain ``NoisyOperation`` objects\n",
    "            which are initialized with a numerical superoperator matrix.\n",
    "        tol: The error tolerance for each matrix element\n",
    "            of the represented operation.\n",
    "        initial_guess: Optional initial guess for the coefficients\n",
    "            :math:`\\{ \\eta_\\alpha \\}``.\n",
    "\n",
    "    Returns: The optimal OperationRepresentation.\n",
    "    \"\"\"\n",
    "    # ideal_cirq_circuit, _ = convert_to_mitiq(ideal_operation)\n",
    "    # ideal_matrix = kraus_to_super(\n",
    "    #     cast(List[npt.NDArray[np.complex64]], kraus(ideal_cirq_circuit))\n",
    "    # )\n",
    "    ideal_matrix = noisy_super_operator\n",
    "    basis_set = noisy_basis.elements\n",
    "\n",
    "    try:\n",
    "        basis_matrices = [noisy_op.channel_matrix for noisy_op in basis_set]\n",
    "    except ValueError as err:\n",
    "        if str(err) == \"The channel matrix is unknown.\":\n",
    "            raise ValueError(\n",
    "                \"The input noisy_basis should contain NoisyOperation objects\"\n",
    "                \" which are initialized with a numerical superoperator matrix.\"\n",
    "            )\n",
    "        else:\n",
    "            raise err  # pragma no cover\n",
    "\n",
    "    # Run numerical optimization problem\n",
    "    quasi_prob_dist = minimize_one_norm(\n",
    "        ideal_matrix,\n",
    "        basis_matrices,\n",
    "        tol=tol,\n",
    "        initial_guess=initial_guess,\n",
    "    )\n",
    "\n",
    "    basis_expansion = {op: eta for op, eta in zip(basis_set, quasi_prob_dist)}\n",
    "    return OperationRepresentation(ideal_operation, basis_expansion)"
   ]
  }
 ],
 "metadata": {
  "kernelspec": {
   "display_name": "Python 3 (ipykernel)",
   "language": "python",
   "name": "python3"
  },
  "language_info": {
   "codemirror_mode": {
    "name": "ipython",
    "version": 3
   },
   "file_extension": ".py",
   "mimetype": "text/x-python",
   "name": "python",
   "nbconvert_exporter": "python",
   "pygments_lexer": "ipython3",
   "version": "3.10.8"
  },
  "vscode": {
   "interpreter": {
    "hash": "c7c859f551ac771d7ec7b66508341cbf372a533465b4e32d787c7352e7a7fb68"
   }
  }
 },
 "nbformat": 4,
 "nbformat_minor": 4
}
