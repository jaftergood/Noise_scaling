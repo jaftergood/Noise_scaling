{
 "cells": [
  {
   "cell_type": "code",
   "execution_count": 1,
   "id": "e5dc5ec1",
   "metadata": {},
   "outputs": [],
   "source": [
    "#Mitiq tools\n",
    "from mitiq.pec import NoisyOperation, execute_with_pec\n",
    "from mitiq.pec.representations.optimal import (find_optimal_representation, \n",
    "                                               minimize_one_norm)\n",
    "\n",
    "from mitiq import QPROGRAM\n",
    "from mitiq.interface import convert_to_mitiq\n",
    "from mitiq.pec.types import NoisyBasis, OperationRepresentation\n",
    "# from mitiq.pec.channels import choi_to_super, _circuit_to_choi\n",
    "\n",
    "#Helper libraries\n",
    "from typing import cast, List, Optional\n",
    "import numpy as np\n",
    "import numpy.typing as npt\n",
    "import scipy as sp\n",
    "from scipy.optimize import minimize, LinearConstraint\n",
    "from scipy.linalg import sqrtm\n",
    "\n",
    "#make numpy matrices easier to read\n",
    "np.set_printoptions(precision=3, linewidth=125, suppress=True)\n",
    "\n",
    "# Qiskit\n",
    "import qiskit\n",
    "from qiskit.quantum_info import PTM, SuperOp, Kraus, Pauli, Operator\n",
    "from qiskit import QuantumCircuit, QuantumRegister, execute\n",
    "from qiskit.test.mock import *\n",
    "from qiskit.providers.fake_provider import *\n",
    "from qiskit.providers.aer import AerSimulator, QasmSimulator, Aer\n",
    "from qiskit.providers.aer.noise import (phase_amplitude_damping_error, \n",
    "                                        amplitude_damping_error, pauli_error,\n",
    "                                        depolarizing_error)\n",
    "from qiskit.providers.aer.noise.noise_model import NoiseModel\n",
    "from qiskit.quantum_info.operators.channel.transformations import *\n",
    "from qiskit.quantum_info.operators.channel.quantum_channel import QuantumChannel\n",
    "from qiskit.quantum_info.operators.channel.transformations import (_choi_to_kraus, \n",
    "                                                                   _kraus_to_superop)\n",
    "from qiskit.quantum_info.operators.channel.transformations import (_kraus_to_choi,\n",
    "                                                                   _choi_to_superop)\n",
    "\n",
    "# Cirq library used as a frontend for interfacing Mitiq\n",
    "# import cirq\n",
    "\n",
    "from qutip import *\n",
    "from qutip.qip.operations import expand_operator, hadamard_transform, cnot, rz\n",
    "from qutip.steadystate import steadystate\n",
    "\n",
    "# Has to come after QuTiP or the QuTiP functions of the same name get priority\n",
    "from mitiq.pec.channels import (matrix_to_vector, kraus_to_super, \n",
    "                                choi_to_super, _circuit_to_choi,\n",
    "                                super_to_choi)\n",
    "\n",
    "import json\n",
    "\n",
    "from timeit import default_timer as timer\n",
    "\n",
    "import matplotlib.ticker as tck\n",
    "import matplotlib.pyplot as plt\n",
    "from matplotlib.backends.backend_pdf import PdfPages\n",
    "\n",
    "from PauliPER.ns_utils_ import (_Trotter, find_optimal_representation_super,\n",
    "                       z_Trotter_new, mk_circ)"
   ]
  },
  {
   "cell_type": "markdown",
   "id": "e4dab003",
   "metadata": {},
   "source": [
    "# Running circuits on backends with noise models:"
   ]
  },
  {
   "cell_type": "markdown",
   "id": "d16041d8",
   "metadata": {},
   "source": [
    "### Start by making the noise models:"
   ]
  },
  {
   "cell_type": "code",
   "execution_count": 2,
   "id": "2e41dbe1",
   "metadata": {},
   "outputs": [],
   "source": [
    "# These are the variables for the noise models:\n",
    "amp_damp_var = 0.006 # 0.125 (0.125 is for reaching the steady state)\n",
    "phase_damp_var = 0.02\n",
    "# These three variables go into my functions\n",
    "TFIM = True # Sets transverse field Ising model\n",
    "xbasis = True # Puts the initial state into the all + state\n",
    "xmeas = True # Adds Hadamards to the end of the circuit\n",
    "# The time step (recall that Qiskit uses e^{-i * op * t / 2})\n",
    "dt = 0.2 # If TFIM = True, then dt has to be short (~0.4 or less)"
   ]
  },
  {
   "cell_type": "markdown",
   "id": "62160e09",
   "metadata": {},
   "source": [
    "Note that the function phase_amp_damping_error(a,b) makes an error channel with Kraus operators that are (at least equivalent to):\n",
    "\n",
    "\\begin{align}\n",
    "& K^{APD}_0 = \\begin{pmatrix}1 & 0 \\\\ 0 & \\sqrt{1-a-b} \\end{pmatrix}\\, , && K^{APD}_1 = \\begin{pmatrix} 0 & \\sqrt{a} \\\\ 0 & 0 \\end{pmatrix}\\, , && K^{APD}_2 = \\begin{pmatrix} 0 & 0 \\\\ 0 & \\sqrt{b} \\end{pmatrix}\\, . &\n",
    "\\end{align}\n",
    "\n",
    "For AD noise, the function amplitude_damping_error(a) makes an error channel with the same Kraus operators only with $b = 0$."
   ]
  },
  {
   "cell_type": "code",
   "execution_count": 3,
   "id": "35ae7f77",
   "metadata": {},
   "outputs": [],
   "source": [
    "''' This is the APD error model. '''\n",
    "\n",
    "# Single qubit error\n",
    "error_apd = phase_amplitude_damping_error(amp_damp_var, phase_damp_var)\n",
    "# Two-qubit error\n",
    "error_2q_apd = error_apd.tensor(error_apd)\n",
    "# Makes the empty NoiseModel object\n",
    "noise_model_apd = NoiseModel()\n",
    "# Add noise to the noise model\n",
    "noise_model_apd.add_all_qubit_quantum_error(error_apd, ['u']) # 1 qubit error\n",
    "noise_model_apd.add_all_qubit_quantum_error(error_2q_apd, ['cx']) # 2 qubit error\n",
    "# Extra single-qubit gates one might want to add noise to in addition to 'u': \n",
    "# 'u3', 'u1', 'u2', 'u', 'h', 's', 'sdg', 'sx'"
   ]
  },
  {
   "cell_type": "code",
   "execution_count": 4,
   "id": "f3a5a439",
   "metadata": {},
   "outputs": [],
   "source": [
    "''' This is the AD error model. '''\n",
    "\n",
    "error_ad = amplitude_damping_error(amp_damp_var)\n",
    "error_2q_ad = error_ad.tensor(error_ad)\n",
    "noise_model_ad = NoiseModel()\n",
    "noise_model_ad.add_all_qubit_quantum_error(error_ad, ['u'])\n",
    "noise_model_ad.add_all_qubit_quantum_error(error_2q_ad, ['cx'])"
   ]
  },
  {
   "cell_type": "code",
   "execution_count": 5,
   "id": "7f104cbc",
   "metadata": {},
   "outputs": [],
   "source": [
    "''' Make the backends with error. '''\n",
    "backend_apd = AerSimulator(noise_model = noise_model_apd)\n",
    "backend_ad = AerSimulator(noise_model = noise_model_ad)"
   ]
  },
  {
   "cell_type": "markdown",
   "id": "472ec8ec",
   "metadata": {},
   "source": [
    "### Create and run circuits with the backends:"
   ]
  },
  {
   "cell_type": "code",
   "execution_count": 6,
   "id": "52ac6c6e",
   "metadata": {},
   "outputs": [],
   "source": [
    "''' Set the number of sites, shots, and Trotter steps for this section. '''\n",
    "\n",
    "N = 2 # For two qubits\n",
    "shots = 20000 # Number of shots\n",
    "steps = np.linspace(0, 20, 21) # This sets how many Trotter steps to take"
   ]
  },
  {
   "cell_type": "code",
   "execution_count": 7,
   "id": "e406b261",
   "metadata": {},
   "outputs": [
    {
     "name": "stdout",
     "output_type": "stream",
     "text": [
      "[2.0, 1.8530999999999997, 1.6334, 1.4237, 1.2026999999999999, 1.0377999999999998, 0.9127000000000001, 0.8441000000000003, 0.8328999999999998, 0.8595999999999999, 0.9091000000000002, 0.9521000000000002, 0.9847000000000001, 0.9814, 0.9470000000000001, 0.8912999999999998, 0.7965, 0.7081000000000002, 0.6207, 0.5454000000000001, 0.48419999999999996]\n"
     ]
    }
   ],
   "source": [
    "''' Now make/run Trotter circuits for the APD model using _Trotter(). '''\n",
    "\n",
    "trott_dicts_apd = []\n",
    "# Create and run circuits:\n",
    "for step in steps:\n",
    "    qc_apd = _Trotter(dt, N, backend_apd, int(step), x=xbasis,\n",
    "                      xx=xmeas, pbc=False, TFIM=TFIM, dtH=dt)\n",
    "    qc_apd.measure_all()\n",
    "\n",
    "    res_apd = backend_apd.run(qc_apd, shots=shots)\n",
    "    trott_dicts_apd.append(res_apd.result().get_counts())\n",
    "\n",
    "# Break up the combined results into results for individual qubits:\n",
    "prob_results_apd = []\n",
    "for res_dict in trott_dicts_apd:\n",
    "    temp_dict = {}\n",
    "    for i in range(N):\n",
    "        temp_dict[f'x{i}u'] = 0\n",
    "        for key in res_dict:\n",
    "            if key[i] == '0':\n",
    "                temp_dict[f'x{i}u'] += res_dict[key]/shots\n",
    "    prob_results_apd.append(temp_dict)\n",
    "\n",
    "# Work out the x-magnetization:\n",
    "mx_dict_apd = {}\n",
    "for step, prob in zip(steps, prob_results_apd):\n",
    "    mx_dict_apd[f'{step * dt / 2}'] = 0\n",
    "    for key in prob:\n",
    "        mx_dict_apd[f'{step * dt / 2}'] += (2*prob[key] - 1)\n",
    "        \n",
    "thymes_apd = [float(x) for x in mx_dict_apd.keys()]\n",
    "mx_shots_apd = [mx_dict_apd[key] for key in mx_dict_apd]\n",
    "print(mx_shots_apd)"
   ]
  },
  {
   "cell_type": "code",
   "execution_count": 8,
   "id": "9f860b7a",
   "metadata": {},
   "outputs": [
    {
     "name": "stdout",
     "output_type": "stream",
     "text": [
      "[2.0, 1.9330999999999998, 1.8049, 1.633, 1.4635, 1.2933, 1.1847, 1.1501000000000001, 1.1480000000000001, 1.2414, 1.3633, 1.4616000000000002, 1.579, 1.6418000000000001, 1.6622999999999999, 1.6152999999999997, 1.5452000000000001, 1.3992, 1.2716999999999998, 1.1801000000000001, 1.0949]\n"
     ]
    }
   ],
   "source": [
    "''' Repeat the process for the AD noise model. '''\n",
    "\n",
    "trott_dicts_ad = []\n",
    "for step in steps:\n",
    "    qc_ad = _Trotter(dt, N, backend_ad, int(step), x=xbasis, \n",
    "                     xx=xmeas, pbc=False, TFIM=TFIM, dtH=dt)\n",
    "    qc_ad.measure_all()\n",
    "\n",
    "    res_ad = backend_ad.run(qc_ad, shots=shots)\n",
    "    trott_dicts_ad.append(res_ad.result().get_counts())\n",
    "    \n",
    "prob_results_ad = []\n",
    "for res_dict in trott_dicts_ad:\n",
    "    temp_dict = {}\n",
    "    for i in range(N):\n",
    "        temp_dict[f'x{i}u'] = 0\n",
    "        for key in res_dict:\n",
    "            if key[i] == '0':\n",
    "                temp_dict[f'x{i}u'] += res_dict[key]/shots\n",
    "    prob_results_ad.append(temp_dict)\n",
    "    \n",
    "mx_dict_ad = {}\n",
    "for step, prob in zip(steps, prob_results_ad):\n",
    "    mx_dict_ad[f'{step * dt / 2}'] = 0\n",
    "    for key in prob:\n",
    "        mx_dict_ad[f'{step * dt / 2}'] += (2*prob[key] - 1)\n",
    "        \n",
    "thymes_ad = [float(x) for x in mx_dict_ad.keys()]\n",
    "mx_shots_ad = [mx_dict_ad[key] for key in mx_dict_ad]\n",
    "print(mx_shots_ad)"
   ]
  },
  {
   "cell_type": "code",
   "execution_count": 9,
   "id": "fbddd20c",
   "metadata": {},
   "outputs": [
    {
     "data": {
      "image/png": "[encoded data removed]",
      "text/plain": [
       "<Figure size 900x600 with 1 Axes>"
      ]
     },
     "metadata": {},
     "output_type": "display_data"
    }
   ],
   "source": [
    "''' Plot the outcome: '''\n",
    "\n",
    "# bw = 'white'\n",
    "bw = 'black'\n",
    "\n",
    "fig, axes = plt.subplots(1,1, figsize=(9,6))\n",
    "\n",
    "axes.plot(thymes_ad[0:21], [x/N for x in mx_shots_ad[0:21]],'b',linewidth=3, \n",
    "          label='x magnetization shots ad')\n",
    "axes.plot(thymes_apd[0:21], [x/N for x in mx_shots_apd[0:21]],'g',linewidth=3, \n",
    "          label='x magnetization shots apd')\n",
    "\n",
    "axes.legend()\n",
    "\n",
    "axes.set_title(r'TFIM: $\\sum_i \\sigma^z_i \\sigma^z_{i+1} + \\sum_i \\sigma^x_i$', \n",
    "               fontsize=20, color=bw)\n",
    "\n",
    "axes.set_xlabel(r'$t$', fontsize=20, color=bw)\n",
    "axes.set_ylabel(r'$M_x = < \\psi(t)| \\sum_i x_i | \\psi(t) >$', fontsize=20, color=bw)\n",
    "axes.tick_params(colors=bw, which='both')  # 'both' refers to minor and major axes\n",
    "\n",
    "fig.tight_layout()\n",
    "plt.show()"
   ]
  },
  {
   "cell_type": "markdown",
   "id": "deb57379",
   "metadata": {},
   "source": [
    "# Now look at obtaining AD noise with APD circuits:"
   ]
  },
  {
   "cell_type": "markdown",
   "id": "e0d58b4d",
   "metadata": {},
   "source": [
    "In order to do this, we want to express AD circuit elements as a linear combination of APD circuits:\n",
    "\n",
    "\\begin{equation}\n",
    "\\mathcal{G}^{AD}_{i} = \\sum_{\\alpha} \\eta_{i, \\alpha} \\mathcal{O}^{APD}_{i, \\alpha}\\, , \n",
    "\\end{equation}\n",
    "\n",
    "with $\\sum_\\alpha \\eta_{i,\\alpha} = 1$ and $\\sum_\\alpha |\\eta_{i,\\alpha}| = \\gamma_i \\geq 1$ for any particular gate $\\mathcal{G}_i$. In what follows, we break each of the necessary gates up into its constituent parts -- in particular, the rzz gate -- and perform a minimization of $\\gamma_i$ for each gate $i$."
   ]
  },
  {
   "cell_type": "code",
   "execution_count": 10,
   "id": "9f9659f1",
   "metadata": {},
   "outputs": [
    {
     "name": "stdout",
     "output_type": "stream",
     "text": [
      "   ┌───┐\n",
      "q: ┤ X ├\n",
      "   └───┘\n"
     ]
    }
   ],
   "source": [
    "'''\n",
    "Here, we make the requisite circuit elements. We will need the individual gates\n",
    "and the gates necessary for the expansions.\n",
    "'''\n",
    "\n",
    "# Choose the angle for everything that follows. Remember Qiskit uses e^{-i t/2 Op}\n",
    "thet = 0.2\n",
    "\n",
    "## 1 qubit gates\n",
    "qcrz = mk_circ(one='rz', theta=thet)\n",
    "qcrx = mk_circ(one='rx', theta=thet)\n",
    "qcz = mk_circ(one='z')\n",
    "qcx = mk_circ(one='x')\n",
    "qcsx = mk_circ(one='s')\n",
    "qch = mk_circ(one='h')\n",
    "\n",
    "## 2 qubit stuff\n",
    "# 1 qubit gates on 2 qubits using the identity gate\n",
    "qcrzi = mk_circ(one='rz', two='i', theta=thet)\n",
    "qcirz = mk_circ(one='i', two='rz', theta=thet)\n",
    "qcrxi = mk_circ(one='rx', two='i', theta=thet)\n",
    "qcirx = mk_circ(one='i', two='rx', theta=thet)\n",
    "qcxi = mk_circ(one='x', two='i')\n",
    "qcix = mk_circ(one='i', two='x')\n",
    "qczi = mk_circ(one='z', two='i')\n",
    "qciz = mk_circ(one='i', two='z')\n",
    "qcsxi = mk_circ(one='s', two='i')\n",
    "qcisx = mk_circ(one='i', two='s')\n",
    "qchi = mk_circ(one='h', two='i')\n",
    "qcih = mk_circ(one='i', two='h')\n",
    "\n",
    "# the 2 qubit gates to simulate (ultimately only want CNOT)\n",
    "qccx = mk_circ(cx='cx')\n",
    "\n",
    "print(qcx.draw())"
   ]
  },
  {
   "cell_type": "code",
   "execution_count": 11,
   "id": "250d932b",
   "metadata": {},
   "outputs": [],
   "source": [
    "'''\n",
    "Turn each of the circuits (QuantumCircuits) into an ideal super operator. Uses Qiskit\n",
    "and QuTiP.\n",
    "'''\n",
    "\n",
    "rzSupOp = Qobj(SuperOp(qcrz).data).tidyup(atol=1e-10).full()  \n",
    "rxSupOp = Qobj(SuperOp(qcrx).data).tidyup(atol=1e-10).full()  \n",
    "zSupOp = Qobj(SuperOp(qcz).data).tidyup(atol=1e-10).full()  \n",
    "xSupOp = Qobj(SuperOp(qcx).data).tidyup(atol=1e-10).full()  \n",
    "sxSupOp = Qobj(SuperOp(qcsx).data).tidyup(atol=1e-10).full()  \n",
    "hSupOp = Qobj(SuperOp(qch).data).tidyup(atol=1e-10).full()  \n",
    "\n",
    "# These all contain an identity gate on one of the qubits:\n",
    "rziSupOp = Qobj(SuperOp(qcrzi).data).tidyup(atol=1e-10).full()  \n",
    "rxiSupOp = Qobj(SuperOp(qcrxi).data).tidyup(atol=1e-10).full()  \n",
    "irzSupOp = Qobj(SuperOp(qcirz).data).tidyup(atol=1e-10).full()  \n",
    "irxSupOp = Qobj(SuperOp(qcirx).data).tidyup(atol=1e-10).full()  \n",
    "\n",
    "xiSupOp = Qobj(SuperOp(qcxi).data).tidyup(atol=1e-10).full()  \n",
    "ixSupOp = Qobj(SuperOp(qcix).data).tidyup(atol=1e-10).full()  \n",
    "ziSupOp = Qobj(SuperOp(qczi).data).tidyup(atol=1e-10).full()  \n",
    "izSupOp = Qobj(SuperOp(qciz).data).tidyup(atol=1e-10).full()  \n",
    "\n",
    "sxiSupOp = Qobj(SuperOp(qcsxi).data).tidyup(atol=1e-10).full()  \n",
    "isxSupOp = Qobj(SuperOp(qcisx).data).tidyup(atol=1e-10).full()  \n",
    "\n",
    "hiSupOp = Qobj(SuperOp(qchi).data).tidyup(atol=1e-10).full()  \n",
    "ihSupOp = Qobj(SuperOp(qcih).data).tidyup(atol=1e-10).full()  \n",
    "\n",
    "cxSupOp = Qobj(SuperOp(qccx).data).tidyup(atol=1e-10).full()  "
   ]
  },
  {
   "cell_type": "markdown",
   "id": "5fa9e68f",
   "metadata": {},
   "source": [
    "##### We pull the Kraus operators directly out of the NoiseModel object."
   ]
  },
  {
   "cell_type": "code",
   "execution_count": 12,
   "id": "bc41e409",
   "metadata": {},
   "outputs": [],
   "source": [
    "# For posterity, this is how you get the Kraus operators out of a backend (IF\n",
    "# the backend was instantiated using Kraus operators to begin with):\n",
    "backend_ad.options.noise_model.to_dict();\n",
    "backend_apd.options.noise_model.to_dict();\n",
    "k_ops_ad = backend_ad.options.noise_model.to_dict()['errors'][0]['instructions'][0][0]['params']\n",
    "k_ops_apd = backend_apd.options.noise_model.to_dict()['errors'][0]['instructions'][0][0]['params']"
   ]
  },
  {
   "cell_type": "code",
   "execution_count": 13,
   "id": "6410f5e5",
   "metadata": {},
   "outputs": [
    {
     "data": {
      "text/plain": [
       "array([[1.+0.j, 0.+0.j, 0.+0.j, 0.+0.j],\n",
       "       [0.+0.j, 1.+0.j, 0.+0.j, 0.+0.j],\n",
       "       [0.+0.j, 0.+0.j, 1.+0.j, 0.+0.j],\n",
       "       [0.+0.j, 0.+0.j, 0.+0.j, 1.+0.j]])"
      ]
     },
     "execution_count": 13,
     "metadata": {},
     "output_type": "execute_result"
    }
   ],
   "source": [
    "''' We extend the Kraus operators to operate on two qubits using the identity (qeye). '''\n",
    "\n",
    "supOp0_ad = []\n",
    "for op in k_ops_ad:\n",
    "    supOp0_ad.append(tensor(Qobj(op), qeye(2)).full())\n",
    "\n",
    "supOp1_ad = []\n",
    "for op in k_ops_ad:\n",
    "    supOp1_ad.append(tensor(qeye(2), Qobj(op)).full())\n",
    "\n",
    "supOp0_apd = []\n",
    "for op in k_ops_apd:\n",
    "    supOp0_apd.append(tensor(Qobj(op), qeye(2)).full())\n",
    "\n",
    "supOp1_apd = []\n",
    "for op in k_ops_apd:\n",
    "    supOp1_apd.append(tensor(qeye(2), Qobj(op)).full())\n",
    "    \n",
    "# Use this to check that they remain Kraus operators:\n",
    "tot = 0\n",
    "for op in supOp0_ad:\n",
    "    tot += op.conj().T @ op\n",
    "tot"
   ]
  },
  {
   "cell_type": "markdown",
   "id": "e2e6073b",
   "metadata": {},
   "source": [
    "This mitiq function, kraus_to_super, creates a super operator out of Kraus operators. It uses the formulation:\n",
    "\\begin{equation}\n",
    "L = \\sum_i K_i \\otimes K_i^*\n",
    "\\end{equation}\n",
    "which is based on:\n",
    "\\begin{equation}\n",
    "A\\big|i\\big>\\big<j\\big|B \\leftrightarrow A\\otimes B^T \\big|i\\big>\\big|j\\big>\\, .\n",
    "\\end{equation}"
   ]
  },
  {
   "cell_type": "code",
   "execution_count": 14,
   "id": "8f8607c2",
   "metadata": {},
   "outputs": [],
   "source": [
    "''' Turn the Kraus operators into super operators. '''\n",
    "\n",
    "## 1 qubit version\n",
    "l_AD = kraus_to_super(k_ops_ad)\n",
    "l_APD = kraus_to_super(k_ops_apd)\n",
    "\n",
    "## 2 qubit versions\n",
    "# the 0 represents the 0th qubit, 1 the 1st qubit.\n",
    "l_AD0 = kraus_to_super(supOp0_ad)\n",
    "l_AD1 = kraus_to_super(supOp1_ad)\n",
    "\n",
    "l_APD0 = kraus_to_super(supOp0_apd)\n",
    "l_APD1 = kraus_to_super(supOp1_apd)"
   ]
  },
  {
   "cell_type": "code",
   "execution_count": 15,
   "id": "41b5ff45",
   "metadata": {},
   "outputs": [],
   "source": [
    "''' \n",
    "Apply the noise super operators to the ideal gate super operators \n",
    "with amp. damp. noise applied: \n",
    "'''\n",
    "noisy_rz_ad = l_AD @ rzSupOp\n",
    "noisy_rx_ad = l_AD @ rxSupOp\n",
    "noisy_z_ad = l_AD @ zSupOp\n",
    "noisy_x_ad = l_AD @ xSupOp\n",
    "noisy_h_ad = l_AD @ hSupOp\n",
    "noisy_sx_ad = l_AD @ sxSupOp\n",
    "\n",
    "noisy_rzi_ad = l_AD0 @ rziSupOp\n",
    "noisy_irz_ad = l_AD1 @ irzSupOp\n",
    "\n",
    "noisy_rxi_ad = l_AD0 @ rxiSupOp\n",
    "noisy_irx_ad = l_AD1 @ irxSupOp\n",
    "\n",
    "noisy_xi_ad = l_AD0 @ xiSupOp\n",
    "noisy_ix_ad = l_AD1 @ ixSupOp\n",
    "\n",
    "noisy_zi_ad = l_AD0 @ ziSupOp\n",
    "noisy_iz_ad = l_AD1 @ izSupOp\n",
    "\n",
    "noisy_sxi_ad = l_AD0 @ sxiSupOp\n",
    "noisy_isx_ad = l_AD1 @ isxSupOp\n",
    "\n",
    "noisy_hi_ad = l_AD0 @ hiSupOp\n",
    "noisy_ih_ad = l_AD1 @ ihSupOp\n",
    "\n",
    "noisy_cx_ad = l_AD0 @ l_AD1 @ cxSupOp"
   ]
  },
  {
   "cell_type": "code",
   "execution_count": 16,
   "id": "e88918ec",
   "metadata": {},
   "outputs": [],
   "source": [
    "''' \n",
    "Apply the noise super operators to the ideal gate super operators \n",
    "with amp. damp. + phase damp. noise applied: \n",
    "'''\n",
    "\n",
    "noisy_rz_apd = l_APD @ rzSupOp\n",
    "noisy_rx_apd = l_APD @ rxSupOp\n",
    "noisy_z_apd = l_APD @ zSupOp\n",
    "noisy_x_apd = l_APD @ xSupOp\n",
    "noisy_h_apd = l_APD @ hSupOp\n",
    "noisy_sx_apd = l_APD @ sxSupOp\n",
    "\n",
    "noisy_rzi_apd = l_APD0 @ rziSupOp\n",
    "noisy_irz_apd = l_APD1 @ irzSupOp\n",
    "\n",
    "noisy_rxi_apd = l_APD0 @ rxiSupOp\n",
    "noisy_irx_apd = l_APD1 @ irxSupOp\n",
    "\n",
    "noisy_xi_apd = l_APD0 @ xiSupOp\n",
    "noisy_ix_apd = l_APD1 @ ixSupOp\n",
    "\n",
    "noisy_zi_apd = l_APD0 @ ziSupOp\n",
    "noisy_iz_apd = l_APD1 @ izSupOp\n",
    "\n",
    "noisy_sxi_apd = l_APD0 @ sxiSupOp\n",
    "noisy_isx_apd = l_APD1 @ isxSupOp\n",
    "\n",
    "noisy_hi_apd = l_APD0 @ hiSupOp\n",
    "noisy_ih_apd = l_APD1 @ ihSupOp\n",
    "\n",
    "noisy_cx_apd = l_APD0 @ l_APD1 @ cxSupOp"
   ]
  },
  {
   "cell_type": "markdown",
   "id": "b8d7b5dc",
   "metadata": {},
   "source": [
    "##### Now we make the bases. Need a basis for CNOT, rz, and rx."
   ]
  },
  {
   "cell_type": "code",
   "execution_count": 17,
   "id": "99bab82a",
   "metadata": {},
   "outputs": [
    {
     "name": "stdout",
     "output_type": "stream",
     "text": [
      "Sequeces of noisy operations to be used as a basis for the rx gate:\n",
      "q_0: ───Rx(0.064π)───\n",
      "q_0: ───X───\n",
      "q_0: ───X^0.5───\n",
      "q_0: ───Z───\n",
      "q_0: ───Rx(0.064π)───Rx(0.064π)───\n",
      "q_0: ───Rx(0.064π)───X───\n",
      "q_0: ───Rx(0.064π)───X^0.5───\n",
      "q_0: ───Rx(0.064π)───Z───\n",
      "q_0: ───X───Rx(0.064π)───\n",
      "q_0: ───X───X───\n",
      "q_0: ───X───X^0.5───\n",
      "q_0: ───X───Z───\n",
      "q_0: ───X^0.5───Rx(0.064π)───\n",
      "q_0: ───X^0.5───X───\n",
      "q_0: ───X^0.5───X^0.5───\n",
      "q_0: ───X^0.5───Z───\n",
      "q_0: ───Z───Rx(0.064π)───\n",
      "q_0: ───Z───X───\n",
      "q_0: ───Z───X^0.5───\n",
      "q_0: ───Z───Z───\n"
     ]
    }
   ],
   "source": [
    "''' All the noisy basis objects we may want to use in our expansions. '''\n",
    "\n",
    "# Create noisy operations as Mitiq NoisyOperation objects for 1 qubit:\n",
    "\n",
    "mitiq_noisy_rz = NoisyOperation(qcrz, noisy_rz_apd)\n",
    "mitiq_noisy_rx = NoisyOperation(qcrx, noisy_rx_apd)\n",
    "mitiq_noisy_z = NoisyOperation(qcz, noisy_z_apd)\n",
    "mitiq_noisy_x = NoisyOperation(qcx, noisy_x_apd)\n",
    "mitiq_noisy_sx = NoisyOperation(qcsx, noisy_sx_apd)\n",
    "mitiq_noisy_h = NoisyOperation(qch, noisy_h_apd)\n",
    "\n",
    "# Create noisy operations as Mitiq NoisyOperation objects for 2 qubits:\n",
    "mitiq_noisy_rzi = NoisyOperation(qcrzi, noisy_rzi_apd) \n",
    "mitiq_noisy_irz = NoisyOperation(qcirz, noisy_irz_apd) \n",
    "\n",
    "mitiq_noisy_rxi = NoisyOperation(qcrxi, noisy_rxi_apd) \n",
    "mitiq_noisy_irx = NoisyOperation(qcirx, noisy_irx_apd) \n",
    "\n",
    "mitiq_noisy_xi = NoisyOperation(qcxi, noisy_xi_apd) \n",
    "mitiq_noisy_ix = NoisyOperation(qcix, noisy_ix_apd) \n",
    "\n",
    "mitiq_noisy_zi = NoisyOperation(qczi, noisy_zi_apd) \n",
    "mitiq_noisy_iz = NoisyOperation(qciz, noisy_iz_apd) \n",
    "\n",
    "mitiq_noisy_sxi = NoisyOperation(qcsxi, noisy_sxi_apd) \n",
    "mitiq_noisy_isx = NoisyOperation(qcisx, noisy_isx_apd) \n",
    "\n",
    "mitiq_noisy_hi = NoisyOperation(qchi, noisy_hi_apd) \n",
    "mitiq_noisy_ih = NoisyOperation(qcih, noisy_ih_apd) \n",
    "\n",
    "mitiq_noisy_cx = NoisyOperation(qccx, noisy_cx_apd)\n",
    "# We use Z on either qubit, X on either qubit, X^{1/2} on either qubit, and CNOT:\n",
    "cx_basis = [mitiq_noisy_zi, mitiq_noisy_iz, mitiq_noisy_xi, \n",
    "                                 mitiq_noisy_ix, mitiq_noisy_sxi, mitiq_noisy_isx, \n",
    "                                 mitiq_noisy_cx]\n",
    "# Here we expand the basis to include sequences of two objects.\n",
    "noisy_basis_cx = cx_basis + [NoisyOperation((a.native_circuit).compose(b.native_circuit),\n",
    "                                  a.channel_matrix @ b.channel_matrix)\n",
    "                                  for a in cx_basis for b in cx_basis]\n",
    "# For the RZ gate: use Z, X, X^{1/2}, and RZ as the basis.\n",
    "rz_basis = [mitiq_noisy_rz, mitiq_noisy_x, mitiq_noisy_sx, mitiq_noisy_z]\n",
    "# Expand the basis to include sequences of two objects.\n",
    "noisy_basis_rz = rz_basis + [NoisyOperation((a.native_circuit).compose(b.native_circuit),\n",
    "                                  a.channel_matrix @ b.channel_matrix)\n",
    "                                  for a in rz_basis for b in rz_basis]\n",
    "# For the RX gate: use Z, X, X^{1/2}, and RX as the basis.\n",
    "rx_basis = [mitiq_noisy_rx, mitiq_noisy_x, mitiq_noisy_sx, mitiq_noisy_z]\n",
    "# Expand the basis to include sequences of two objects.\n",
    "noisy_basis_rx = rx_basis + [NoisyOperation((a.native_circuit).compose(b.native_circuit),\n",
    "                                  a.channel_matrix @ b.channel_matrix)\n",
    "                                  for a in rx_basis for b in rx_basis]\n",
    "\n",
    "print(\"Sequeces of noisy operations to be used as a basis for the rx gate:\")\n",
    "for elem in noisy_basis_rx:\n",
    "    print(elem.circuit)"
   ]
  },
  {
   "cell_type": "code",
   "execution_count": 18,
   "id": "2d469094",
   "metadata": {},
   "outputs": [
    {
     "name": "stdout",
     "output_type": "stream",
     "text": [
      "CNOT overhead: 1.0206216673888908, rz overhead: 1.0147512408313601, rx overhead: 1.012380288343055.\n"
     ]
    }
   ],
   "source": [
    "''' Use the modified mitiq function to find the optimal representations. '''\n",
    "\n",
    "# Have to mess with tol for each manually:\n",
    "op_cx = find_optimal_representation_super(qccx, noisy_cx_ad, noisy_basis_cx, tol=.00005)\n",
    "op_rz = find_optimal_representation_super(qcrz, noisy_rz_ad, noisy_basis_rz, tol=.00001)\n",
    "op_rx = find_optimal_representation_super(qcrx, noisy_rx_ad, noisy_basis_rx, tol=.00001)\n",
    "\n",
    "print(f'CNOT overhead: {op_cx.norm}, rz overhead: {op_rz.norm}, rx overhead: {op_rx.norm}.')"
   ]
  },
  {
   "cell_type": "code",
   "execution_count": 19,
   "id": "6c0759ea",
   "metadata": {},
   "outputs": [
    {
     "name": "stdout",
     "output_type": "stream",
     "text": [
      "Approximated superoperator\n",
      "[[ 1.   +0.j    -0.   +0.j    -0.   -0.j     0.006+0.j   ]\n",
      " [ 0.   +0.j     0.977+0.198j  0.   -0.j    -0.   -0.j   ]\n",
      " [ 0.   -0.j     0.   +0.j     0.977-0.198j -0.   +0.j   ]\n",
      " [-0.   +0.j     0.   -0.j     0.   +0.j     0.994+0.j   ]]\n",
      "------------------------------\n",
      "Desired superoperator\n",
      "[[1.   +0.j    0.   +0.j    0.   +0.j    0.006+0.j   ]\n",
      " [0.   +0.j    0.977+0.198j 0.   +0.j    0.   +0.j   ]\n",
      " [0.   +0.j    0.   +0.j    0.977-0.198j 0.   +0.j   ]\n",
      " [0.   +0.j    0.   +0.j    0.   +0.j    0.994+0.j   ]]\n",
      "------------------------------\n",
      "The difference between them\n",
      "[[ 0.+0.j -0.+0.j -0.-0.j  0.+0.j]\n",
      " [ 0.+0.j -0.-0.j  0.-0.j -0.-0.j]\n",
      " [ 0.-0.j  0.+0.j -0.+0.j -0.+0.j]\n",
      " [-0.+0.j  0.-0.j  0.+0.j -0.+0.j]]\n"
     ]
    }
   ],
   "source": [
    "''' Check that these representations reconstruct the desired super operator, e.g., rz: '''\n",
    "\n",
    "matrices = [m.channel_matrix for m in op_rz.noisy_operations]\n",
    "mat = sum(m*coeff for (m,coeff) in zip(matrices, op_rz.coeffs))\n",
    "print(\"Approximated superoperator\")\n",
    "print(mat)\n",
    "print('------------------------------')\n",
    "print(\"Desired superoperator\")\n",
    "print(noisy_rz_ad)\n",
    "print('------------------------------')\n",
    "print('The difference between them')\n",
    "print(mat-noisy_rz_ad)"
   ]
  },
  {
   "cell_type": "code",
   "execution_count": 20,
   "id": "072e822e",
   "metadata": {
    "collapsed": true
   },
   "outputs": [
    {
     "name": "stdout",
     "output_type": "stream",
     "text": [
      "Calculating Trotter step n = 0.\n",
      "    It is rep 0 of 500 total reps. A rep takes 0.03076617600163445 s.\n",
      "    It is rep 100 of 500 total reps. A rep takes 0.027290339989122003 s.\n"
     ]
    },
    {
     "ename": "KeyboardInterrupt",
     "evalue": "",
     "output_type": "error",
     "traceback": [
      "\u001b[0;31m---------------------------------------------------------------------------\u001b[0m",
      "\u001b[0;31mKeyboardInterrupt\u001b[0m                         Traceback (most recent call last)",
      "Cell \u001b[0;32mIn[20], line 39\u001b[0m\n\u001b[1;32m     37\u001b[0m \u001b[38;5;66;03m# Here, use the amp. + phase damp. backend:\u001b[39;00m\n\u001b[1;32m     38\u001b[0m res \u001b[38;5;241m=\u001b[39m backend_apd\u001b[38;5;241m.\u001b[39mrun(trot_circ[\u001b[38;5;241m0\u001b[39m], shots\u001b[38;5;241m=\u001b[39mshots)\n\u001b[0;32m---> 39\u001b[0m dict_results\u001b[38;5;241m.\u001b[39mappend(\u001b[43mres\u001b[49m\u001b[38;5;241;43m.\u001b[39;49m\u001b[43mresult\u001b[49m\u001b[43m(\u001b[49m\u001b[43m)\u001b[49m\u001b[38;5;241m.\u001b[39mget_counts())\n\u001b[1;32m     40\u001b[0m gamma_results\u001b[38;5;241m.\u001b[39mappend(trot_circ[\u001b[38;5;241m1\u001b[39m] \u001b[38;5;241m*\u001b[39m trot_circ[\u001b[38;5;241m2\u001b[39m])\n\u001b[1;32m     41\u001b[0m \u001b[38;5;66;03m# Printing to keep track of the timing and where the script is in the calculation.\u001b[39;00m\n",
      "File \u001b[0;32m/opt/anaconda3/envs/per_env/lib/python3.10/site-packages/qiskit_aer/jobs/utils.py:41\u001b[0m, in \u001b[0;36mrequires_submit.<locals>._wrapper\u001b[0;34m(self, *args, **kwargs)\u001b[0m\n\u001b[1;32m     39\u001b[0m \u001b[38;5;28;01mif\u001b[39;00m \u001b[38;5;28mself\u001b[39m\u001b[38;5;241m.\u001b[39m_future \u001b[38;5;129;01mis\u001b[39;00m \u001b[38;5;28;01mNone\u001b[39;00m:\n\u001b[1;32m     40\u001b[0m     \u001b[38;5;28;01mraise\u001b[39;00m JobError(\u001b[38;5;124m\"\u001b[39m\u001b[38;5;124mJob not submitted yet!. You have to .submit() first!\u001b[39m\u001b[38;5;124m\"\u001b[39m)\n\u001b[0;32m---> 41\u001b[0m \u001b[38;5;28;01mreturn\u001b[39;00m \u001b[43mfunc\u001b[49m\u001b[43m(\u001b[49m\u001b[38;5;28;43mself\u001b[39;49m\u001b[43m,\u001b[49m\u001b[43m \u001b[49m\u001b[38;5;241;43m*\u001b[39;49m\u001b[43margs\u001b[49m\u001b[43m,\u001b[49m\u001b[43m \u001b[49m\u001b[38;5;241;43m*\u001b[39;49m\u001b[38;5;241;43m*\u001b[39;49m\u001b[43mkwargs\u001b[49m\u001b[43m)\u001b[49m\n",
      "File \u001b[0;32m/opt/anaconda3/envs/per_env/lib/python3.10/site-packages/qiskit_aer/jobs/aerjob.py:106\u001b[0m, in \u001b[0;36mAerJob.result\u001b[0;34m(self, timeout)\u001b[0m\n\u001b[1;32m     88\u001b[0m \u001b[38;5;129m@requires_submit\u001b[39m\n\u001b[1;32m     89\u001b[0m \u001b[38;5;28;01mdef\u001b[39;00m \u001b[38;5;21mresult\u001b[39m(\u001b[38;5;28mself\u001b[39m, timeout\u001b[38;5;241m=\u001b[39m\u001b[38;5;28;01mNone\u001b[39;00m):\n\u001b[1;32m     90\u001b[0m     \u001b[38;5;66;03m# pylint: disable=arguments-differ\u001b[39;00m\n\u001b[1;32m     91\u001b[0m     \u001b[38;5;124;03m\"\"\"Get job result. The behavior is the same as the underlying\u001b[39;00m\n\u001b[1;32m     92\u001b[0m \u001b[38;5;124;03m    concurrent Future objects,\u001b[39;00m\n\u001b[1;32m     93\u001b[0m \n\u001b[0;32m   (...)\u001b[0m\n\u001b[1;32m    104\u001b[0m \u001b[38;5;124;03m        concurrent.futures.CancelledError: if job cancelled before completed.\u001b[39;00m\n\u001b[1;32m    105\u001b[0m \u001b[38;5;124;03m    \"\"\"\u001b[39;00m\n\u001b[0;32m--> 106\u001b[0m     \u001b[38;5;28;01mreturn\u001b[39;00m \u001b[38;5;28;43mself\u001b[39;49m\u001b[38;5;241;43m.\u001b[39;49m\u001b[43m_future\u001b[49m\u001b[38;5;241;43m.\u001b[39;49m\u001b[43mresult\u001b[49m\u001b[43m(\u001b[49m\u001b[43mtimeout\u001b[49m\u001b[38;5;241;43m=\u001b[39;49m\u001b[43mtimeout\u001b[49m\u001b[43m)\u001b[49m\n",
      "File \u001b[0;32m/opt/anaconda3/envs/per_env/lib/python3.10/concurrent/futures/_base.py:453\u001b[0m, in \u001b[0;36mFuture.result\u001b[0;34m(self, timeout)\u001b[0m\n\u001b[1;32m    450\u001b[0m \u001b[38;5;28;01melif\u001b[39;00m \u001b[38;5;28mself\u001b[39m\u001b[38;5;241m.\u001b[39m_state \u001b[38;5;241m==\u001b[39m FINISHED:\n\u001b[1;32m    451\u001b[0m     \u001b[38;5;28;01mreturn\u001b[39;00m \u001b[38;5;28mself\u001b[39m\u001b[38;5;241m.\u001b[39m__get_result()\n\u001b[0;32m--> 453\u001b[0m \u001b[38;5;28;43mself\u001b[39;49m\u001b[38;5;241;43m.\u001b[39;49m\u001b[43m_condition\u001b[49m\u001b[38;5;241;43m.\u001b[39;49m\u001b[43mwait\u001b[49m\u001b[43m(\u001b[49m\u001b[43mtimeout\u001b[49m\u001b[43m)\u001b[49m\n\u001b[1;32m    455\u001b[0m \u001b[38;5;28;01mif\u001b[39;00m \u001b[38;5;28mself\u001b[39m\u001b[38;5;241m.\u001b[39m_state \u001b[38;5;129;01min\u001b[39;00m [CANCELLED, CANCELLED_AND_NOTIFIED]:\n\u001b[1;32m    456\u001b[0m     \u001b[38;5;28;01mraise\u001b[39;00m CancelledError()\n",
      "File \u001b[0;32m/opt/anaconda3/envs/per_env/lib/python3.10/threading.py:320\u001b[0m, in \u001b[0;36mCondition.wait\u001b[0;34m(self, timeout)\u001b[0m\n\u001b[1;32m    318\u001b[0m \u001b[38;5;28;01mtry\u001b[39;00m:    \u001b[38;5;66;03m# restore state no matter what (e.g., KeyboardInterrupt)\u001b[39;00m\n\u001b[1;32m    319\u001b[0m     \u001b[38;5;28;01mif\u001b[39;00m timeout \u001b[38;5;129;01mis\u001b[39;00m \u001b[38;5;28;01mNone\u001b[39;00m:\n\u001b[0;32m--> 320\u001b[0m         \u001b[43mwaiter\u001b[49m\u001b[38;5;241;43m.\u001b[39;49m\u001b[43macquire\u001b[49m\u001b[43m(\u001b[49m\u001b[43m)\u001b[49m\n\u001b[1;32m    321\u001b[0m         gotit \u001b[38;5;241m=\u001b[39m \u001b[38;5;28;01mTrue\u001b[39;00m\n\u001b[1;32m    322\u001b[0m     \u001b[38;5;28;01melse\u001b[39;00m:\n",
      "\u001b[0;31mKeyboardInterrupt\u001b[0m: "
     ]
    }
   ],
   "source": [
    "'''\n",
    "This script makes the Trotter circuits, finds the necessary expectation values, and\n",
    "stores everything in various dictionaries. I haven't written it into a module yet.\n",
    "'''\n",
    "\n",
    "N = 2 # Number of sites\n",
    "shots = 20000\n",
    "trot = 10 # max Trotter steps\n",
    "err = 0.05 # Approximate desired error\n",
    "rep_tol = 10000. # The maximum allowable number of circuit repetitions\n",
    "rep_min = 500. # The minimum allowable number of circuit repetitions\n",
    "ev_interim = {} # Storing all interim expectation values for each step\n",
    "ev_reps = {} # Store the number of reps at each step\n",
    "ev_output = {} # Store the final output expectation value at each step\n",
    "op_h = None\n",
    "for n in range(trot+1):\n",
    "    ''' n is the number of Trotter steps in the simulation. '''\n",
    "    print(f'Calculating Trotter step n = {n}.')\n",
    "    # Solves for the number of reps required to simulate to precision err:\n",
    "    rep = ((op_cx.norm**2*op_rz.norm*op_rx.norm**2)**n/err)**2\n",
    "    if rep > rep_tol:\n",
    "        reps = int(rep_tol)\n",
    "    elif rep < rep_min:\n",
    "        reps = int(rep_min)\n",
    "    else:\n",
    "        reps = int(rep)\n",
    "    ev_reps[f'{n}'] = reps\n",
    "    dict_results = []\n",
    "    gamma_results = []\n",
    "    for i in range(reps):\n",
    "        START = timer()\n",
    "        # qc = QuantumCircuit(N)\n",
    "        trot_circ = z_Trotter_new(op_cx, op_rz, N, backend_apd, n, \n",
    "                                  x=xbasis, xx=xmeas, pbc=False, TFIM=TFIM, rx=op_rx)\n",
    "        # qc = qc.compose(trot_circ[0])\n",
    "        trot_circ[0].measure_all()\n",
    "        # Here, use the amp. + phase damp. backend:\n",
    "        res = backend_apd.run(trot_circ[0], shots=shots)\n",
    "        dict_results.append(res.result().get_counts())\n",
    "        gamma_results.append(trot_circ[1] * trot_circ[2])\n",
    "        # Printing to keep track of the timing and where the script is in the calculation.\n",
    "        if i % 100 == 0:\n",
    "            print(f'    It is rep {i} of {reps} total reps. A rep takes {timer() - START} s.')\n",
    "\n",
    "    prob_results = []\n",
    "    for res_dict in dict_results:\n",
    "        temp_dict = {}\n",
    "        for i in range(int(N)):\n",
    "            temp_dict[f'x{i}u'] = 0\n",
    "            for key in res_dict:\n",
    "                if key[i] == '0':\n",
    "                    temp_dict[f'x{i}u'] += res_dict[key]/shots\n",
    "        prob_results.append(temp_dict)\n",
    "\n",
    "    exp_vals = []\n",
    "    for ent in prob_results:\n",
    "        val = 0\n",
    "        for key in ent:\n",
    "            val += 2 * ent[key] - 1\n",
    "        exp_vals.append(val)\n",
    "\n",
    "    tot_out = []\n",
    "    for a, b in zip(exp_vals, gamma_results):\n",
    "        tot_out.append(a*b)\n",
    "    ev_interim[f'{n}'] = tot_out\n",
    "    ev_output[f'{n}'] = sum(tot_out)/len(tot_out)\n",
    "    \n",
    "print(ev_output)"
   ]
  },
  {
   "cell_type": "code",
   "execution_count": 39,
   "id": "89eb45ba",
   "metadata": {},
   "outputs": [
    {
     "data": {
      "image/png": "[encoded data removed]",
      "text/plain": [
       "<Figure size 900x600 with 1 Axes>"
      ]
     },
     "metadata": {},
     "output_type": "display_data"
    }
   ],
   "source": [
    "''' Plot all the outcomes together: '''\n",
    "\n",
    "# bw = 'white'\n",
    "bw = 'black'\n",
    "\n",
    "fig, axes = plt.subplots(1,1, figsize=(9,6))\n",
    "\n",
    "axes.plot(thymes_ad[0:21], [x/N for x in mx_shots_ad[0:21]],'.b',linewidth=3, \n",
    "          label='x magnetization shots ad')\n",
    "axes.plot(thymes_apd[0:21], [x/N for x in mx_shots_apd[0:21]],'.g',linewidth=3, \n",
    "          label='x magnetization shots apd')\n",
    "axes.plot([int(key)*thet/2 for key in ev_output], \n",
    "          [ev_output[key]/N for key in ev_output],'.r',linewidth=3, \n",
    "          label='x magnetization PER')\n",
    "\n",
    "# Add error bars to the PER data:\n",
    "axes.errorbar([int(key)*thet/2 for key in ev_output],\n",
    "              [ev_output[key]/N for key in ev_output],\n",
    "              [np.sqrt((np.std([x/N for x in ev_interim[key]]\n",
    "                              )/np.sqrt(len(ev_interim[key])))**2 \n",
    "               + (1/np.sqrt(shots))**2) for key in ev_interim], \n",
    "              color='r', capsize=3, linestyle='')\n",
    "\n",
    "axes.legend()\n",
    "\n",
    "axes.set_title(r'TFIM: $\\sum_i \\sigma^z_i \\sigma^z_{i+1} + \\sum_i \\sigma^x_i$', \n",
    "               fontsize=20, color=bw)\n",
    "\n",
    "axes.set_xlabel(r'$t$', fontsize=20, color=bw)\n",
    "axes.set_ylabel(r'$M_x = < \\psi(t)| \\sum_i x_i | \\psi(t) >$', fontsize=20, color=bw)\n",
    "axes.tick_params(colors=bw, which='both')  # 'both' refers to minor and major axes\n",
    "\n",
    "fig.tight_layout()\n",
    "plt.show()"
   ]
  },
  {
   "cell_type": "code",
   "execution_count": null,
   "id": "05a1bd44",
   "metadata": {},
   "outputs": [],
   "source": []
  },
  {
   "cell_type": "code",
   "execution_count": null,
   "id": "4ce96a61",
   "metadata": {},
   "outputs": [],
   "source": []
  }
 ],
 "metadata": {
  "kernelspec": {
   "display_name": "Python 3 (ipykernel)",
   "language": "python",
   "name": "python3"
  },
  "language_info": {
   "codemirror_mode": {
    "name": "ipython",
    "version": 3
   },
   "file_extension": ".py",
   "mimetype": "text/x-python",
   "name": "python",
   "nbconvert_exporter": "python",
   "pygments_lexer": "ipython3",
   "version": "3.10.9"
  }
 },
 "nbformat": 4,
 "nbformat_minor": 5
}
